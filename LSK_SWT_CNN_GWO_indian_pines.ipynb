{
  "nbformat": 4,
  "nbformat_minor": 0,
  "metadata": {
    "colab": {
      "provenance": [],
      "include_colab_link": true
    },
    "kernelspec": {
      "name": "python3",
      "display_name": "Python 3"
    },
    "accelerator": "GPU"
  },
  "cells": [
    {
      "cell_type": "markdown",
      "metadata": {
        "id": "view-in-github",
        "colab_type": "text"
      },
      "source": [
        "<a href=\"https://colab.research.google.com/github/sandeepgitam/GitHub_Tutorial_GITAM/blob/main/LSK_SWT_CNN_GWO_indian_pines.ipynb\" target=\"_parent\"><img src=\"https://colab.research.google.com/assets/colab-badge.svg\" alt=\"Open In Colab\"/></a>"
      ]
    },
    {
      "cell_type": "code",
      "metadata": {
        "id": "-iKmAlYGhp41"
      },
      "source": [
        "import numpy as np\n",
        "import scipy.io as sio\n",
        "import sklearn as sk\n",
        "import pandas as pd\n",
        "import pywt\n",
        "import matplotlib.pyplot as plt\n",
        "from spectral import *\n",
        "\n",
        "from sklearn.decomposition import PCA\n",
        "from sklearn.discriminant_analysis import LinearDiscriminantAnalysis\n",
        "from NiaPy.algorithms.basic import GreyWolfOptimizer\n",
        "from NiaPy.algorithms.modified import HybridBatAlgorithm\n",
        "from sklearn.model_selection import train_test_split\n",
        "from sklearn.metrics import cohen_kappa_score\n",
        "\n",
        "from sklearn.ensemble import RandomForestClassifier\n",
        "from sklearn.ensemble import AdaBoostClassifier\n",
        "from sklearn import neighbors\n",
        "from keras.models import load_model\n",
        "\n",
        "from sklearn.svm import SVC\n",
        "\n",
        "from sklearn.datasets import make_classification\n",
        "\n",
        "from sklearn import metrics\n",
        "\n",
        "import warnings\n",
        "warnings.filterwarnings(\"ignore\")"
      ],
      "execution_count": null,
      "outputs": []
    },
    {
      "cell_type": "code",
      "metadata": {
        "id": "NESrc45Eo9gs",
        "colab": {
          "base_uri": "https://localhost:8080/"
        },
        "outputId": "bc0aa8b1-a376-4837-972a-205a67b328d1"
      },
      "source": [
        "!pip install Niapy\n",
        "!pip install spectral"
      ],
      "execution_count": null,
      "outputs": [
        {
          "output_type": "stream",
          "text": [
            "Requirement already satisfied: Niapy in /usr/local/lib/python3.6/dist-packages (1.0.2)\n",
            "Requirement already satisfied: click~=6.0 in /usr/local/lib/python3.6/dist-packages (from Niapy) (6.7)\n",
            "Requirement already satisfied: xlsxwriter~=1.0.2 in /usr/local/lib/python3.6/dist-packages (from Niapy) (1.0.9)\n",
            "Requirement already satisfied: scipy~=1.0.0 in /usr/local/lib/python3.6/dist-packages (from Niapy) (1.0.1)\n",
            "Requirement already satisfied: numpy~=1.14.0 in /usr/local/lib/python3.6/dist-packages (from Niapy) (1.14.6)\n",
            "Requirement already satisfied: spectral in /usr/local/lib/python3.6/dist-packages (0.22.1)\n",
            "Requirement already satisfied: numpy in /usr/local/lib/python3.6/dist-packages (from spectral) (1.14.6)\n"
          ],
          "name": "stdout"
        }
      ]
    },
    {
      "cell_type": "code",
      "metadata": {
        "id": "plqwzXAfh58d",
        "colab": {
          "base_uri": "https://localhost:8080/"
        },
        "outputId": "b31fd5a4-4378-4c11-819e-44c5152196fd"
      },
      "source": [
        "hsi_data=sio.loadmat('/content/Indian_pines_corrected.mat')\n",
        "indian_pines_data=hsi_data[\"indian_pines_corrected\"]\n",
        "dim=indian_pines_data.shape\n",
        "print(dim)"
      ],
      "execution_count": null,
      "outputs": [
        {
          "output_type": "stream",
          "text": [
            "(145, 145, 200)\n"
          ],
          "name": "stdout"
        }
      ]
    },
    {
      "cell_type": "code",
      "metadata": {
        "id": "AuSQGk7dk6rD",
        "colab": {
          "base_uri": "https://localhost:8080/"
        },
        "outputId": "e4eebf21-a1e1-4044-c745-d3534add2d27"
      },
      "source": [
        "hsi_gt=sio.loadmat(\"/content/Indian_pines_gt.mat\")\n",
        "hsi_gt_arr=hsi_gt['indian_pines_gt']\n",
        "y=np.reshape(hsi_gt_arr,(dim[0]*dim[1],1))\n",
        "print(y.shape)\n",
        "print(np.unique(y))"
      ],
      "execution_count": null,
      "outputs": [
        {
          "output_type": "stream",
          "text": [
            "(21025, 1)\n",
            "[ 0  1  2  3  4  5  6  7  8  9 10 11 12 13 14 15 16]\n"
          ],
          "name": "stdout"
        }
      ]
    },
    {
      "cell_type": "code",
      "metadata": {
        "id": "FN9LjXGfk_34",
        "colab": {
          "base_uri": "https://localhost:8080/"
        },
        "outputId": "0bff1e08-7957-4266-c458-a4ba593e676b"
      },
      "source": [
        "twoD_dim=(dim[0]*dim[1],dim[2])\n",
        "twoD_hsi_data=np.zeros(twoD_dim)\n",
        "k=0;\n",
        "for i in range(0,dim[0]):\n",
        "  for j in range(0,dim[1]):\n",
        "    twoD_hsi_data[k,:]=indian_pines_data[i,j,:]\n",
        "    k=k+1\n",
        "    \n",
        "print(twoD_hsi_data.shape)"
      ],
      "execution_count": null,
      "outputs": [
        {
          "output_type": "stream",
          "text": [
            "(21025, 200)\n"
          ],
          "name": "stdout"
        }
      ]
    },
    {
      "cell_type": "code",
      "metadata": {
        "id": "Dc4LlANklEoI",
        "colab": {
          "base_uri": "https://localhost:8080/"
        },
        "outputId": "b947684e-3f29-4c54-f696-5ae4617210c5"
      },
      "source": [
        "db1=pywt.Wavelet('db1')\n",
        "s=(twoD_dim[0],4*twoD_dim[1])\n",
        "coefsi=np.zeros(s)\n",
        "db1=pywt.Wavelet('db1')\n",
        "for i in range(0,twoD_dim[0]):\n",
        "  temp=pywt.swt(twoD_hsi_data[i,:],db1,level=2,axis=-1)\n",
        "  coefsi[i,:]=np.ndarray.flatten(np.array(temp))\n",
        "  \n",
        "print(np.array(coefsi).shape)"
      ],
      "execution_count": null,
      "outputs": [
        {
          "output_type": "stream",
          "text": [
            "(21025, 800)\n"
          ],
          "name": "stdout"
        }
      ]
    },
    {
      "cell_type": "code",
      "metadata": {
        "id": "1N3GSj5clLy1"
      },
      "source": [
        "s=(145,145,800)\n",
        "Coefsi_3d_data=np.zeros(s)\n",
        "for i in range(0,800):\n",
        "  Coefsi_3d_data[:,:,i]=np.reshape(coefsi[:,i],(145,145))"
      ],
      "execution_count": null,
      "outputs": []
    },
    {
      "cell_type": "code",
      "metadata": {
        "id": "LLshfRJB7Ouh",
        "colab": {
          "base_uri": "https://localhost:8080/"
        },
        "outputId": "fa84fc0f-f083-45ff-a458-78180843741d"
      },
      "source": [
        "Coefsi_3d_data.shape"
      ],
      "execution_count": null,
      "outputs": [
        {
          "output_type": "execute_result",
          "data": {
            "text/plain": [
              "(145, 145, 800)"
            ]
          },
          "metadata": {
            "tags": []
          },
          "execution_count": 32
        }
      ]
    },
    {
      "cell_type": "code",
      "metadata": {
        "id": "bGYCZlPdlSYw"
      },
      "source": [
        "sio.savemat(\"Coefsi_3d_data.mat\",{\"coefsi_3d_data\":Coefsi_3d_data})"
      ],
      "execution_count": null,
      "outputs": []
    },
    {
      "cell_type": "code",
      "metadata": {
        "id": "SDu1QvWalXOe"
      },
      "source": [
        "def loadIndianPinesData():\n",
        "\n",
        "    data = sio.loadmat(os.path.join(\n",
        "                      'Coefsi_3d_data.mat'))['coefsi_3d_data']\n",
        "    labels = sio.loadmat(os.path.join(\n",
        "                        'Indian_pines_gt.mat'))['indian_pines_gt']\n",
        "    \n",
        "    return data, labels"
      ],
      "execution_count": null,
      "outputs": []
    },
    {
      "cell_type": "code",
      "metadata": {
        "id": "yaLLJDjAoTP0"
      },
      "source": [
        "#  split data to Train and Test Set\n",
        "def splitTrainTestSet(X, y, classnum=15, testRatio=0.50):\n",
        "#     X_train, X_test, y_train, y_test = train_test_split(X, y, \n",
        "#                                test_size=testRatio, random_state=345, stratify=y)\n",
        "    ss=StratifiedShuffleSplit(n_splits=classnum, test_size=testRatio, \n",
        "                              train_size=1-testRatio, random_state=0)\n",
        "    \n",
        "    for train_index, test_index in ss.split(X, y):\n",
        "        print(\"TRAIN:\", train_index, \"TEST:\", test_index)\n",
        "        X_train, X_test = X[train_index], X[test_index]\n",
        "        y_train, y_test = y[train_index], y[test_index]\n",
        "        \n",
        "    return X_train, X_test, y_train, y_test"
      ],
      "execution_count": null,
      "outputs": []
    },
    {
      "cell_type": "code",
      "metadata": {
        "id": "GHzcgNMgog6I"
      },
      "source": [
        "#  over sample \n",
        "def oversampleWeakClasses(X, y):\n",
        "    uniqueLabels, labelCounts = np.unique(y, return_counts=True)\n",
        "    maxCount = np.max(labelCounts)\n",
        "    labelInverseRatios = maxCount / labelCounts  \n",
        "    # repeat for every label and concat\n",
        "    print(uniqueLabels)\n",
        "    print(\"\")\n",
        "    print(labelCounts)\n",
        "    print(\"\")\n",
        "    print(maxCount)\n",
        "    print(labelInverseRatios)\n",
        "\n",
        "    newX = X[y == uniqueLabels[0], :, :, :].repeat(round(labelInverseRatios[0]), \n",
        "                                                   axis=0)\n",
        "    newY = y[y == uniqueLabels[0]].repeat(round(labelInverseRatios[0]), axis=0)\n",
        "    \n",
        "    for label, labelInverseRatio in zip(uniqueLabels[1:], labelInverseRatios[1:]):\n",
        "        print(label,round(labelInverseRatio))\n",
        "        cX = X[y== label,:,:,:].repeat(round(labelInverseRatio), axis=0)\n",
        "        cY = y[y == label].repeat(round(labelInverseRatio), axis=0)\n",
        "        newX = np.concatenate((newX, cX))\n",
        "        newY = np.concatenate((newY, cY))\n",
        "\n",
        "    np.random.seed(seed=42)\n",
        "    rand_perm = np.random.permutation(newY.shape[0])\n",
        "    newX = newX[rand_perm, :, :, :]\n",
        "    newY = newY[rand_perm]\n",
        "    \n",
        "    return newX, newY"
      ],
      "execution_count": null,
      "outputs": []
    },
    {
      "cell_type": "code",
      "metadata": {
        "id": "HhxA5Ny3on76"
      },
      "source": [
        "def standartizeData(X):\n",
        "    newX = np.reshape(X, (-1, X.shape[2]))\n",
        "    scaler = preprocessing.StandardScaler().fit(newX)  \n",
        "    newX = scaler.transform(newX)\n",
        "    newX = np.reshape(newX, (X.shape[0],X.shape[1],X.shape[2]))\n",
        "    return newX, scaler"
      ],
      "execution_count": null,
      "outputs": []
    },
    {
      "cell_type": "code",
      "metadata": {
        "id": "K1hoeGFaowsy"
      },
      "source": [
        "#  apply PCA preprocessing for data sets\n",
        "def applyPCA(X, numComponents=100):\n",
        "    newX = np.reshape(X, (-1, X.shape[2]))\n",
        "    pca = PCA(n_components=numComponents, whiten=True)\n",
        "    newX = pca.fit_transform(newX)\n",
        "    newX = np.reshape(newX, (X.shape[0],X.shape[1], numComponents))\n",
        "    return newX, pca"
      ],
      "execution_count": null,
      "outputs": []
    },
    {
      "cell_type": "code",
      "metadata": {
        "id": "hiifO5gso1LF"
      },
      "source": [
        "#  pad zeros to dataset\n",
        "def padWithZeros(X, margin=2):\n",
        "    newX = np.zeros((X.shape[0] + 2 * margin, X.shape[1] + 2* margin, \n",
        "                     X.shape[2]))\n",
        "    x_offset = margin\n",
        "    y_offset = margin\n",
        "    newX[x_offset:X.shape[0] + x_offset, y_offset:X.shape[1] + \n",
        "         y_offset, :] = X\n",
        "    return newX"
      ],
      "execution_count": null,
      "outputs": []
    },
    {
      "cell_type": "code",
      "metadata": {
        "id": "8qhBGEDko8vp"
      },
      "source": [
        "#  create Patches for dataset\n",
        "def createPatches(X, y, windowSize=5, removeZeroLabels = True):\n",
        "    margin = int((windowSize - 1) / 2)\n",
        "    zeroPaddedX = padWithZeros(X, margin=margin)\n",
        "    # split patches\n",
        "    patchesData = np.zeros((X.shape[0] * X.shape[1], windowSize, \n",
        "                            windowSize, X.shape[2]))\n",
        "    patchesLabels = np.zeros((X.shape[0] * X.shape[1]))\n",
        "    patchIndex = 0\n",
        "    for r in range(margin, zeroPaddedX.shape[0] - margin):\n",
        "        for c in range(margin, zeroPaddedX.shape[1] - margin):\n",
        "            patch = zeroPaddedX[r - margin:r + margin + 1, c - \n",
        "                                margin:c + margin + 1]   \n",
        "            patchesData[patchIndex, :, :, :] = patch\n",
        "            patchesLabels[patchIndex] = y[r-margin, c-margin]\n",
        "            patchIndex = patchIndex + 1\n",
        "    if removeZeroLabels:\n",
        "        patchesData = patchesData[patchesLabels>0,:,:,:]\n",
        "        patchesLabels = patchesLabels[patchesLabels>0]\n",
        "        patchesLabels -= 1\n",
        "    return patchesData, patchesLabels"
      ],
      "execution_count": null,
      "outputs": []
    },
    {
      "cell_type": "code",
      "metadata": {
        "id": "ElrEIATJpSbM"
      },
      "source": [
        "#  Augment Data\n",
        "def AugmentData(X_train):\n",
        "    for i in range(int(X_train.shape[0]/2)):\n",
        "        patch = X_train[i,:,:,:]\n",
        "        num = random.randint(0,2)\n",
        "        if (num == 0):\n",
        "            flipped_patch = np.flipud(patch)\n",
        "        if (num == 1):\n",
        "            \n",
        "            flipped_patch = np.fliplr(patch)\n",
        "        if (num == 2):\n",
        "            \n",
        "            no = random.randrange(-180,180,30)\n",
        "            flipped_patch = scipy.ndimage.interpolation.rotate(patch, \n",
        "                            no,axes=(1, 0), reshape=False, output=None, \n",
        "                            order=3, mode='constant', cval=0.0, prefilter=False)\n",
        "        \n",
        "        patch2 = flipped_patch\n",
        "        X_train[i,:,:,:] = patch2\n",
        "        \n",
        "\n",
        "    return X_train"
      ],
      "execution_count": null,
      "outputs": []
    },
    {
      "cell_type": "code",
      "metadata": {
        "id": "CSfJVVh4paLa"
      },
      "source": [
        "def savePreprocessedData(path, X_trainPatches, X_testPatches, y_trainPatches, \n",
        "                         y_testPatches, windowSize, wasPCAapplied = False, \n",
        "                         numPCAComponents = 0, testRatio = 0.25):\n",
        "    \n",
        "    \n",
        "\n",
        "    if wasPCAapplied:\n",
        "        with open(os.path.join(\"XtrainWindowSize\") + str(windowSize) + \n",
        "                  \"PCA\" + str(numPCAComponents) + \"testRatio\" + str(testRatio) + \n",
        "                  \".npy\", 'bw') as outfile:\n",
        "            np.save(outfile, X_trainPatches)\n",
        "        with open(os.path.join( \"XtestWindowSize\") + str(windowSize) + \n",
        "                  \"PCA\" + str(numPCAComponents) + \"testRatio\" + str(testRatio) + \n",
        "                  \".npy\", 'bw') as outfile:\n",
        "            np.save(outfile, X_testPatches)\n",
        "        with open(os.path.join( \"ytrainWindowSize\") + str(windowSize) + \n",
        "                  \"PCA\" + str(numPCAComponents) + \"testRatio\" + str(testRatio) + \n",
        "                  \".npy\", 'bw') as outfile:\n",
        "            np.save(outfile, y_trainPatches)\n",
        "        with open(os.path.join(\"ytestWindowSize\") + str(windowSize) + \n",
        "                  \"PCA\" + str(numPCAComponents) + \"testRatio\" + str(testRatio) + \n",
        "                  \".npy\", 'bw') as outfile:\n",
        "            np.save(outfile, y_testPatches)\n",
        "    else:\n",
        "        with open(os.path.join(\"preXtrainWindowSize\") + str(windowSize) + \n",
        "                  \".npy\", 'bw') as outfile:\n",
        "            np.save(outfile, X_trainPatches)\n",
        "        with open(os.path.join( \"preXtestWindowSize\") + str(windowSize) + \n",
        "                  \".npy\", 'bw') as outfile:\n",
        "            np.save(outfile, X_testPatches)\n",
        "        with open(os.path.join( \"preytrainWindowSize\") + str(windowSize) + \n",
        "                  \".npy\", 'bw') as outfile:\n",
        "            np.save(outfile, y_trainPatches)\n",
        "        with open(os.path.join( \"preytestWindowSize\") + str(windowSize) + \n",
        "                  \".npy\", 'bw') as outfile:\n",
        "            np.save(outfile, y_testPatches)"
      ],
      "execution_count": null,
      "outputs": []
    },
    {
      "cell_type": "code",
      "metadata": {
        "id": "LRvUueN0pgrm"
      },
      "source": [
        "# Global Variables\n",
        "# The number of principal components to be retained in the PCA algorithm, \n",
        "# the number of retained features  n\n",
        "numComponents = 5\n",
        "# Patches windows size\n",
        "windowSize = 15\n",
        "# The proportion of Test sets\n",
        "testRatio = 0.80"
      ],
      "execution_count": null,
      "outputs": []
    },
    {
      "cell_type": "code",
      "metadata": {
        "id": "4zH4rt4zpnA0"
      },
      "source": [
        "import os\n",
        "# Load dataset from file and apply PCA\n",
        "#X, y = loadHSIData()\n",
        "X,y = loadIndianPinesData()\n",
        "X, pca = applyPCA(X, numComponents=numComponents)"
      ],
      "execution_count": null,
      "outputs": []
    },
    {
      "cell_type": "code",
      "metadata": {
        "id": "QAIXm3hTBOYd"
      },
      "source": [
        "import numpy as np\n",
        "from sklearn.decomposition import PCA\n",
        "import scipy.io as sio\n",
        "from sklearn.model_selection import train_test_split, StratifiedShuffleSplit\n",
        "from sklearn import preprocessing\n",
        "import os\n",
        "import random\n",
        "from random import shuffle\n",
        "from skimage.transform import rotate\n",
        "import scipy.ndimage\n",
        "from spectral import *"
      ],
      "execution_count": null,
      "outputs": []
    },
    {
      "cell_type": "code",
      "metadata": {
        "id": "zCQRDmG0_5Lv"
      },
      "source": [
        "# ground_truth = plt.imshow(classes=y, figsize=(10, 10))"
      ],
      "execution_count": null,
      "outputs": []
    },
    {
      "cell_type": "code",
      "metadata": {
        "id": "MmpitN7kBXLg",
        "colab": {
          "base_uri": "https://localhost:8080/"
        },
        "outputId": "5b7ae41e-d1ab-4ee8-a99f-2a21619355b5"
      },
      "source": [
        "# Preprocess Data\n",
        "XPatches, yPatches = createPatches(X, y, windowSize=windowSize)\n",
        "X_train, X_test, y_train, y_test = splitTrainTestSet(XPatches, yPatches, \n",
        "                                                     y.max()-y.min(), testRatio)\n",
        "\n",
        "x_train=X_train\n",
        "print(\"patch_size :\", len(XPatches))\n",
        "print(\"Training data 2d array size\",len(X_train))\n",
        "print(\"Testing data 2d array size\",len(X_test))\n",
        "X_train, y_train = oversampleWeakClasses(X_train, y_train)\n",
        "print(\"oversampling 2d array size :\",len(X_train))\n",
        "X_train = AugmentData(X_train)\n",
        "print(\"Size of augmentation done :\",len(X_train)-len(x_train))\n",
        "print(\"Total size of training data with augmented data :\",len(X_train))"
      ],
      "execution_count": null,
      "outputs": [
        {
          "output_type": "stream",
          "text": [
            "TRAIN: [6332 8993 5921 ... 3119 9645 3876] TEST: [4830 1536 3039 ... 4407 9112 7370]\n",
            "TRAIN: [2791 3463 5005 ... 7017 6387 5558] TEST: [9530 2005 9359 ... 8733 5264 2779]\n",
            "TRAIN: [3632 7529  500 ... 2218 4567 9926] TEST: [9080 4674 1893 ... 8498 2526 7778]\n",
            "TRAIN: [9947  620 6406 ... 9212 4673 4215] TEST: [1965 4574 4168 ...  935 8962 4866]\n",
            "TRAIN: [8947 6773 9668 ... 5583 1752 3145] TEST: [1368 5598 4705 ... 7294 5477 5611]\n",
            "TRAIN: [4364 1232 6332 ... 6865 2601 6687] TEST: [6712 7546 2522 ... 2772 2780 5801]\n",
            "TRAIN: [7279 3052  832 ... 9190 7242 4404] TEST: [ 300 2367 2350 ... 4161 6664 5670]\n",
            "TRAIN: [1205 7387  889 ...  315 2707 6865] TEST: [5054 3494 3938 ... 4993 2598 8716]\n",
            "TRAIN: [ 705 3664 1510 ...  234 6636 2014] TEST: [ 531 5445  552 ... 9862 4699 4633]\n",
            "TRAIN: [7996 8268 4831 ... 4868 6147 7181] TEST: [2186 9528 3202 ... 7488  712 6310]\n",
            "TRAIN: [4474 5596 3911 ... 3962 3229 3785] TEST: [ 2062 10032  7405 ... 10133   814  2218]\n",
            "TRAIN: [4200 8096 4124 ... 1676 9374  103] TEST: [5319 8176  271 ... 4732 7627 3943]\n",
            "TRAIN: [4784 3155  137 ... 6642 3064   61] TEST: [3086 3777 4966 ... 2732 6434 9925]\n",
            "TRAIN: [ 139 1421 2423 ... 2012 8098 5135] TEST: [8111 3195 4517 ... 7616 1021 1647]\n",
            "TRAIN: [ 515  727 9570 ...  389 1493 7844] TEST: [4951 9762 4834 ... 1684 5330 6765]\n",
            "TRAIN: [6405 2835 5861 ... 2349 3751 1530] TEST: [4562  425 7665 ... 2238 3592 1717]\n",
            "patch_size : 10249\n",
            "Training data 2d array size 2049\n",
            "Testing data 2d array size 8200\n",
            "[ 0.  1.  2.  3.  4.  5.  6.  7.  8.  9. 10. 11. 12. 13. 14. 15.]\n",
            "\n",
            "[  9 285 166  47  97 146   6  96   4 194 491 118  41 253  77  19]\n",
            "\n",
            "491\n",
            "[ 54.55555556   1.72280702   2.95783133  10.44680851   5.06185567\n",
            "   3.3630137   81.83333333   5.11458333 122.75         2.53092784\n",
            "   1.           4.16101695  11.97560976   1.94071146   6.37662338\n",
            "  25.84210526]\n",
            "1.0 2\n",
            "2.0 3\n",
            "3.0 10\n",
            "4.0 5\n",
            "5.0 3\n",
            "6.0 82\n",
            "7.0 5\n",
            "8.0 123\n",
            "9.0 3\n",
            "10.0 1\n",
            "11.0 4\n",
            "12.0 12\n",
            "13.0 2\n",
            "14.0 6\n",
            "15.0 26\n",
            "oversampling 2d array size : 7919\n",
            "Size of augmentation done : 5870\n",
            "Total size of training data with augmented data : 7919\n"
          ],
          "name": "stdout"
        }
      ]
    },
    {
      "cell_type": "code",
      "metadata": {
        "id": "TmTe3H16Bec8"
      },
      "source": [
        "# save Preprocessed Data to file\n",
        "savePreprocessedData('predata', X_train, X_test, y_train, y_test, windowSize = windowSize, \n",
        "                     wasPCAapplied=True, numPCAComponents = numComponents, \n",
        "                     testRatio = testRatio)"
      ],
      "execution_count": null,
      "outputs": []
    },
    {
      "cell_type": "code",
      "metadata": {
        "id": "Xj_6J1ELBmk1"
      },
      "source": [
        "import numpy as np\n",
        "import scipy\n",
        "import os\n",
        "from keras.models import Sequential\n",
        "from keras.layers import Dense, Dropout, Flatten\n",
        "from keras.layers import Conv2D, MaxPooling2D\n",
        "from keras.optimizers import SGD\n",
        "from keras.callbacks import ReduceLROnPlateau, ModelCheckpoint\n",
        "from keras import backend as K\n",
        "from keras.utils import np_utils\n",
        "from keras.layers import LeakyReLU\n",
        "#from sklearn.cross_validation import StratifiedKFold"
      ],
      "execution_count": null,
      "outputs": []
    },
    {
      "cell_type": "code",
      "metadata": {
        "id": "Et-C3urtALvq"
      },
      "source": [
        "# Global Variables\n",
        "# The number of principal components to be retained in the PCA algorithm, \n",
        "# the number of retained features  n\n",
        "numPCAcomponents = 5\n",
        "# Patches windows size\n",
        "windowSize = 15\n",
        "# The proportion of Test sets\n",
        "testRatio = 0.80"
      ],
      "execution_count": null,
      "outputs": []
    },
    {
      "cell_type": "code",
      "metadata": {
        "id": "DyeO4I_LBzq8"
      },
      "source": [
        "# load Preprocessed data from file\n",
        "X_train = np.load(\"XtrainWindowSize\" \n",
        "                  + str(windowSize) + \"PCA\" + str(numPCAcomponents) + \n",
        "                  \"testRatio\" + str(testRatio)  + \".npy\")\n",
        "y_train = np.load(\"ytrainWindowSize\" \n",
        "                  + str(windowSize) + \"PCA\" + str(numPCAcomponents) + \n",
        "                  \"testRatio\" + str(testRatio) + \".npy\")\n",
        "X_test = np.load(\"XtestWindowSize\" \n",
        "                  + str(windowSize) + \"PCA\" + str(numPCAcomponents) + \n",
        "                 \"testRatio\" + str(testRatio)  + \".npy\")\n",
        "y_test = np.load(\"ytestWindowSize\" \n",
        "                  + str(windowSize) + \"PCA\" + str(numPCAcomponents) + \n",
        "                 \"testRatio\" + str(testRatio) + \".npy\")"
      ],
      "execution_count": null,
      "outputs": []
    },
    {
      "cell_type": "code",
      "metadata": {
        "id": "QW-CNGzPC9OT",
        "colab": {
          "base_uri": "https://localhost:8080/"
        },
        "outputId": "72b1c93e-bd9f-449f-c5eb-590361f7e43c"
      },
      "source": [
        "X_train = np.reshape(X_train, (X_train.shape[0], X_train.shape[3], \n",
        "                               X_train.shape[1], X_train.shape[2]))\n",
        "X_test = np.reshape(X_test, (X_test.shape[0],X_test.shape[3], \n",
        "                             X_test.shape[1], X_test.shape[2]))\n",
        "\n",
        "# convert class labels to on-hot encoding\n",
        "y_train = np_utils.to_categorical(y_train)\n",
        "y_test = np_utils.to_categorical(y_test)\n",
        "\n",
        "# Define the input shape \n",
        "input_shape= X_train[0].shape\n",
        "print(input_shape)\n",
        "\n",
        "# number of filters\n",
        "C1 = 3*numPCAcomponents"
      ],
      "execution_count": null,
      "outputs": [
        {
          "output_type": "stream",
          "text": [
            "(5, 15, 15)\n"
          ],
          "name": "stdout"
        }
      ]
    },
    {
      "cell_type": "code",
      "metadata": {
        "id": "hq7sKg_4t5Bi"
      },
      "source": [
        "activation_cnn_layer = [\n",
        "    'relu',\n",
        "    'tanh']\n",
        "\n",
        "activation_feed_layer = [\n",
        "    'relu',\n",
        "    'tanh']\n",
        "\n",
        "\n",
        "optimizers=[\"adam\",'sgd']\n",
        "\n",
        "# map from real number [0, 1] to integer ranging [1, 3]\n",
        "def swap_activation_cnn(val):\n",
        "    if val == 1:\n",
        "        return 2\n",
        "    return int(val * 2 + 1)\n",
        "\n",
        "def swap_activation_feed(val):\n",
        "    if val == 1:\n",
        "        return 2\n",
        "    return int(val * 2 + 1)\n",
        "\n",
        "def swap_optimzer(val):\n",
        "    if val == 1:\n",
        "        return 2\n",
        "    return int(val * 2 + 1)\n",
        "\n",
        "\n",
        "def no_of_epoch(val):\n",
        "  return int(50)\n",
        "\n",
        "\n",
        "# map from real number [0, 1] to integer ranging [5, 15]\n",
        "def no_of_batch(val):\n",
        "    return int(val *224 + 32)\n",
        "\n",
        "def no_of_filters(val):\n",
        "  return int(val*8 + 1)\n",
        "\n",
        "def no_neurons_hidden_layer(val):\n",
        "  return int(val*64+8)\n",
        "\n",
        "def kernel_size(val):\n",
        "  return int(val*1+10)\n",
        "def dropout(val):\n",
        "  return int(val*1+0.1)\n",
        "\n",
        "class cnnbenchmark():\n",
        "  def __init__(self):\n",
        "        self.Lower = 0\n",
        "        self.Upper = 1\n",
        "  def function(self):\n",
        "      # our definition of fitness function\n",
        "      def evaluate(D, solution):\n",
        "          acc_cnn_layer = activation_cnn_layer[swap_activation_cnn(solution[0]-1)]\n",
        "          print(acc_cnn_layer)\n",
        "          acc_feed_layer = activation_feed_layer[swap_activation_feed((solution[1]) - 1)]\n",
        "          optimizer = optimizers[(swap_optimzer(solution[2])- 1)]\n",
        "          epochs = no_of_epoch(solution[3])\n",
        "          batch=no_of_batch(solution[4])\n",
        "          filters=no_of_filters(solution[5])\n",
        "          neurons=no_neurons_hidden_layer(solution[6])\n",
        "          kernel_s=kernel_size(solution[7])\n",
        "          drop_neurons=dropout(solution[8])\n",
        "          \n",
        "          accuracy = 1 - model.model_build(acc_cnn_layer,acc_feed_layer,optimizer,epochs,batch,filters,neurons,kernel_s,drop_neurons)\n",
        "          scores.append([accuracy,acc_cnn_layer,acc_feed_layer,optimizer,epochs,batch,filters,neurons,kernel_s,drop_neurons])\n",
        "          return accuracy\n",
        "      return evaluate"
      ],
      "execution_count": null,
      "outputs": []
    },
    {
      "cell_type": "code",
      "metadata": {
        "id": "MGw1B7SxkNUT"
      },
      "source": [
        "class model():\n",
        "  def model_build(acc_cnn_layer,acc_feed_layer,\n",
        "                  optimizer,epochs,batch,filters,neurons,kernel_s,drop_neurons):\n",
        "    print(\"Activation cnn layer :\",acc_cnn_layer)\n",
        "    print(\"Activation feed layer :\",acc_feed_layer)\n",
        "    print(\"optimizer :\",optimizer)\n",
        "    print(\"batch :\",batch)\n",
        "    print(\"epochs :\",epochs)\n",
        "    print(\"dropout :\",drop_neurons)\n",
        "    print(\"no of filters :\",filters)\n",
        "    model = Sequential()\n",
        "    model.add(Conv2D(64, (3,3), activation=acc_cnn_layer, input_shape=input_shape))\n",
        "    model.add(Conv2D(128, (3,3), activation=acc_cnn_layer))\n",
        "    model.add(Dropout(drop_neurons))\n",
        "    model.add(Flatten())\n",
        "    model.add(Dense(6*numPCAcomponents, activation=acc_feed_layer))\n",
        "    model.add(Dropout(drop_neurons))\n",
        "    model.add(Dense(16, activation='softmax'))\n",
        "\n",
        "    # Define optimization and train method\n",
        "    reduce_lr = ReduceLROnPlateau(monitor='val_acc', factor=0.9, patience=25, \n",
        "                                  min_lr=0.000001, verbose=1)\n",
        "    checkpointer = ModelCheckpoint(filepath=\"checkpoint.hdf5\", verbose=1, \n",
        "                                  save_best_only=False)\n",
        "    # sgd = SGD(lr=0.001, decay=1e-6, momentum=0.9, nesterov=True)\n",
        "    model.compile(loss='categorical_crossentropy', optimizer=optimizer, \n",
        "                                  metrics=['accuracy'])\n",
        "    # Start to train model \n",
        "    history = model.fit(X_train, y_train, \n",
        "                        batch_size=batch, \n",
        "                        epochs=100, \n",
        "                        verbose=1, \n",
        "                        validation_data=(X_test, y_test),\n",
        "                        callbacks=[reduce_lr, checkpointer],\n",
        "                        shuffle=True)\n",
        "    \n",
        "    model.save('HSI_model_epochs100.h5')\n",
        "    model = load_model('HSI_model_epochs100.h5')\n",
        "    score = model.evaluate(X_test, y_test, batch_size=32)\n",
        "    Test_Loss = score[0]*100\n",
        "    Test_accuracy = score[1]*100\n",
        "\n",
        "    return Test_accuracy"
      ],
      "execution_count": null,
      "outputs": []
    },
    {
      "cell_type": "code",
      "metadata": {
        "id": "IUchydeJo2dA",
        "colab": {
          "base_uri": "https://localhost:8080/",
          "height": 1000
        },
        "outputId": "10f49aec-57cb-4d2f-eaba-e87343a2c14a"
      },
      "source": [
        "scores = []\n",
        "algorithm = GreyWolfOptimizer(9, 40, 100,cnnbenchmark())\n",
        "best = algorithm.run()\n",
        "\n",
        "print('Optimal CNN model parameters are:')\n",
        "best_solution = []\n",
        "\n",
        "for score in scores:\n",
        "    if score[0] == best:\n",
        "        best_solution = score\n",
        "\n",
        "print(best_solution)"
      ],
      "execution_count": null,
      "outputs": [
        {
          "output_type": "stream",
          "text": [
            "\n",
            "Epoch 00036: saving model to checkpoint.hdf5\n",
            "Epoch 37/100\n",
            "52/52 [==============================] - 0s 6ms/step - loss: 0.1415 - accuracy: 0.9647 - val_loss: 0.3968 - val_accuracy: 0.8693\n"
          ],
          "name": "stdout"
        },
        {
          "output_type": "stream",
          "text": [
            "WARNING:tensorflow:Learning rate reduction is conditioned on metric `val_acc` which is not available. Available metrics are: loss,accuracy,val_loss,val_accuracy,lr\n"
          ],
          "name": "stderr"
        },
        {
          "output_type": "stream",
          "text": [
            "\n",
            "Epoch 00037: saving model to checkpoint.hdf5\n",
            "Epoch 38/100\n",
            "52/52 [==============================] - 0s 7ms/step - loss: 0.1293 - accuracy: 0.9672 - val_loss: 0.3389 - val_accuracy: 0.8809\n"
          ],
          "name": "stdout"
        },
        {
          "output_type": "stream",
          "text": [
            "WARNING:tensorflow:Learning rate reduction is conditioned on metric `val_acc` which is not available. Available metrics are: loss,accuracy,val_loss,val_accuracy,lr\n"
          ],
          "name": "stderr"
        },
        {
          "output_type": "stream",
          "text": [
            "\n",
            "Epoch 00038: saving model to checkpoint.hdf5\n",
            "Epoch 39/100\n",
            "52/52 [==============================] - 0s 6ms/step - loss: 0.1290 - accuracy: 0.9654 - val_loss: 0.3396 - val_accuracy: 0.8824\n"
          ],
          "name": "stdout"
        },
        {
          "output_type": "stream",
          "text": [
            "WARNING:tensorflow:Learning rate reduction is conditioned on metric `val_acc` which is not available. Available metrics are: loss,accuracy,val_loss,val_accuracy,lr\n"
          ],
          "name": "stderr"
        },
        {
          "output_type": "stream",
          "text": [
            "\n",
            "Epoch 00039: saving model to checkpoint.hdf5\n",
            "Epoch 40/100\n",
            "52/52 [==============================] - 0s 6ms/step - loss: 0.1210 - accuracy: 0.9677 - val_loss: 0.2743 - val_accuracy: 0.9182\n"
          ],
          "name": "stdout"
        },
        {
          "output_type": "stream",
          "text": [
            "WARNING:tensorflow:Learning rate reduction is conditioned on metric `val_acc` which is not available. Available metrics are: loss,accuracy,val_loss,val_accuracy,lr\n"
          ],
          "name": "stderr"
        },
        {
          "output_type": "stream",
          "text": [
            "\n",
            "Epoch 00040: saving model to checkpoint.hdf5\n",
            "Epoch 41/100\n",
            "52/52 [==============================] - 0s 6ms/step - loss: 0.1159 - accuracy: 0.9696 - val_loss: 0.2666 - val_accuracy: 0.9194\n"
          ],
          "name": "stdout"
        },
        {
          "output_type": "stream",
          "text": [
            "WARNING:tensorflow:Learning rate reduction is conditioned on metric `val_acc` which is not available. Available metrics are: loss,accuracy,val_loss,val_accuracy,lr\n"
          ],
          "name": "stderr"
        },
        {
          "output_type": "stream",
          "text": [
            "\n",
            "Epoch 00041: saving model to checkpoint.hdf5\n",
            "Epoch 42/100\n",
            "52/52 [==============================] - 0s 6ms/step - loss: 0.1194 - accuracy: 0.9704 - val_loss: 0.2830 - val_accuracy: 0.9100\n"
          ],
          "name": "stdout"
        },
        {
          "output_type": "stream",
          "text": [
            "WARNING:tensorflow:Learning rate reduction is conditioned on metric `val_acc` which is not available. Available metrics are: loss,accuracy,val_loss,val_accuracy,lr\n"
          ],
          "name": "stderr"
        },
        {
          "output_type": "stream",
          "text": [
            "\n",
            "Epoch 00042: saving model to checkpoint.hdf5\n",
            "Epoch 43/100\n",
            "52/52 [==============================] - 0s 7ms/step - loss: 0.1141 - accuracy: 0.9690 - val_loss: 0.2894 - val_accuracy: 0.9066\n"
          ],
          "name": "stdout"
        },
        {
          "output_type": "stream",
          "text": [
            "WARNING:tensorflow:Learning rate reduction is conditioned on metric `val_acc` which is not available. Available metrics are: loss,accuracy,val_loss,val_accuracy,lr\n"
          ],
          "name": "stderr"
        },
        {
          "output_type": "stream",
          "text": [
            "\n",
            "Epoch 00043: saving model to checkpoint.hdf5\n",
            "Epoch 44/100\n",
            "52/52 [==============================] - 0s 6ms/step - loss: 0.1085 - accuracy: 0.9708 - val_loss: 0.2846 - val_accuracy: 0.9077\n"
          ],
          "name": "stdout"
        },
        {
          "output_type": "stream",
          "text": [
            "WARNING:tensorflow:Learning rate reduction is conditioned on metric `val_acc` which is not available. Available metrics are: loss,accuracy,val_loss,val_accuracy,lr\n"
          ],
          "name": "stderr"
        },
        {
          "output_type": "stream",
          "text": [
            "\n",
            "Epoch 00044: saving model to checkpoint.hdf5\n",
            "Epoch 45/100\n",
            "52/52 [==============================] - 0s 6ms/step - loss: 0.1033 - accuracy: 0.9742 - val_loss: 0.2782 - val_accuracy: 0.9100\n"
          ],
          "name": "stdout"
        },
        {
          "output_type": "stream",
          "text": [
            "WARNING:tensorflow:Learning rate reduction is conditioned on metric `val_acc` which is not available. Available metrics are: loss,accuracy,val_loss,val_accuracy,lr\n"
          ],
          "name": "stderr"
        },
        {
          "output_type": "stream",
          "text": [
            "\n",
            "Epoch 00045: saving model to checkpoint.hdf5\n",
            "Epoch 46/100\n",
            "52/52 [==============================] - 0s 8ms/step - loss: 0.1018 - accuracy: 0.9758 - val_loss: 0.2886 - val_accuracy: 0.8961\n"
          ],
          "name": "stdout"
        },
        {
          "output_type": "stream",
          "text": [
            "WARNING:tensorflow:Learning rate reduction is conditioned on metric `val_acc` which is not available. Available metrics are: loss,accuracy,val_loss,val_accuracy,lr\n"
          ],
          "name": "stderr"
        },
        {
          "output_type": "stream",
          "text": [
            "\n",
            "Epoch 00046: saving model to checkpoint.hdf5\n",
            "Epoch 47/100\n",
            "52/52 [==============================] - 0s 7ms/step - loss: 0.0933 - accuracy: 0.9789 - val_loss: 0.2375 - val_accuracy: 0.9271\n"
          ],
          "name": "stdout"
        },
        {
          "output_type": "stream",
          "text": [
            "WARNING:tensorflow:Learning rate reduction is conditioned on metric `val_acc` which is not available. Available metrics are: loss,accuracy,val_loss,val_accuracy,lr\n"
          ],
          "name": "stderr"
        },
        {
          "output_type": "stream",
          "text": [
            "\n",
            "Epoch 00047: saving model to checkpoint.hdf5\n",
            "Epoch 48/100\n",
            "52/52 [==============================] - 0s 6ms/step - loss: 0.0941 - accuracy: 0.9785 - val_loss: 0.2628 - val_accuracy: 0.9138\n"
          ],
          "name": "stdout"
        },
        {
          "output_type": "stream",
          "text": [
            "WARNING:tensorflow:Learning rate reduction is conditioned on metric `val_acc` which is not available. Available metrics are: loss,accuracy,val_loss,val_accuracy,lr\n"
          ],
          "name": "stderr"
        },
        {
          "output_type": "stream",
          "text": [
            "\n",
            "Epoch 00048: saving model to checkpoint.hdf5\n",
            "Epoch 49/100\n",
            "52/52 [==============================] - 0s 6ms/step - loss: 0.0874 - accuracy: 0.9797 - val_loss: 0.2368 - val_accuracy: 0.9257\n"
          ],
          "name": "stdout"
        },
        {
          "output_type": "stream",
          "text": [
            "WARNING:tensorflow:Learning rate reduction is conditioned on metric `val_acc` which is not available. Available metrics are: loss,accuracy,val_loss,val_accuracy,lr\n"
          ],
          "name": "stderr"
        },
        {
          "output_type": "stream",
          "text": [
            "\n",
            "Epoch 00049: saving model to checkpoint.hdf5\n",
            "Epoch 50/100\n",
            "52/52 [==============================] - 0s 7ms/step - loss: 0.0864 - accuracy: 0.9789 - val_loss: 0.2404 - val_accuracy: 0.9259\n"
          ],
          "name": "stdout"
        },
        {
          "output_type": "stream",
          "text": [
            "WARNING:tensorflow:Learning rate reduction is conditioned on metric `val_acc` which is not available. Available metrics are: loss,accuracy,val_loss,val_accuracy,lr\n"
          ],
          "name": "stderr"
        },
        {
          "output_type": "stream",
          "text": [
            "\n",
            "Epoch 00050: saving model to checkpoint.hdf5\n",
            "Epoch 51/100\n",
            "52/52 [==============================] - 0s 6ms/step - loss: 0.0870 - accuracy: 0.9790 - val_loss: 0.2766 - val_accuracy: 0.9085\n"
          ],
          "name": "stdout"
        },
        {
          "output_type": "stream",
          "text": [
            "WARNING:tensorflow:Learning rate reduction is conditioned on metric `val_acc` which is not available. Available metrics are: loss,accuracy,val_loss,val_accuracy,lr\n"
          ],
          "name": "stderr"
        },
        {
          "output_type": "stream",
          "text": [
            "\n",
            "Epoch 00051: saving model to checkpoint.hdf5\n",
            "Epoch 52/100\n",
            "52/52 [==============================] - 0s 7ms/step - loss: 0.0847 - accuracy: 0.9799 - val_loss: 0.2070 - val_accuracy: 0.9371\n"
          ],
          "name": "stdout"
        },
        {
          "output_type": "stream",
          "text": [
            "WARNING:tensorflow:Learning rate reduction is conditioned on metric `val_acc` which is not available. Available metrics are: loss,accuracy,val_loss,val_accuracy,lr\n"
          ],
          "name": "stderr"
        },
        {
          "output_type": "stream",
          "text": [
            "\n",
            "Epoch 00052: saving model to checkpoint.hdf5\n",
            "Epoch 53/100\n",
            "52/52 [==============================] - 0s 7ms/step - loss: 0.0835 - accuracy: 0.9789 - val_loss: 0.2234 - val_accuracy: 0.9274\n"
          ],
          "name": "stdout"
        },
        {
          "output_type": "stream",
          "text": [
            "WARNING:tensorflow:Learning rate reduction is conditioned on metric `val_acc` which is not available. Available metrics are: loss,accuracy,val_loss,val_accuracy,lr\n"
          ],
          "name": "stderr"
        },
        {
          "output_type": "stream",
          "text": [
            "\n",
            "Epoch 00053: saving model to checkpoint.hdf5\n",
            "Epoch 54/100\n",
            "52/52 [==============================] - 0s 7ms/step - loss: 0.0782 - accuracy: 0.9824 - val_loss: 0.2416 - val_accuracy: 0.9234\n"
          ],
          "name": "stdout"
        },
        {
          "output_type": "stream",
          "text": [
            "WARNING:tensorflow:Learning rate reduction is conditioned on metric `val_acc` which is not available. Available metrics are: loss,accuracy,val_loss,val_accuracy,lr\n"
          ],
          "name": "stderr"
        },
        {
          "output_type": "stream",
          "text": [
            "\n",
            "Epoch 00054: saving model to checkpoint.hdf5\n",
            "Epoch 55/100\n",
            "52/52 [==============================] - 0s 9ms/step - loss: 0.0725 - accuracy: 0.9851 - val_loss: 0.2560 - val_accuracy: 0.9150\n"
          ],
          "name": "stdout"
        },
        {
          "output_type": "stream",
          "text": [
            "WARNING:tensorflow:Learning rate reduction is conditioned on metric `val_acc` which is not available. Available metrics are: loss,accuracy,val_loss,val_accuracy,lr\n"
          ],
          "name": "stderr"
        },
        {
          "output_type": "stream",
          "text": [
            "\n",
            "Epoch 00055: saving model to checkpoint.hdf5\n",
            "Epoch 56/100\n",
            "52/52 [==============================] - 0s 6ms/step - loss: 0.0729 - accuracy: 0.9843 - val_loss: 0.2006 - val_accuracy: 0.9396\n"
          ],
          "name": "stdout"
        },
        {
          "output_type": "stream",
          "text": [
            "WARNING:tensorflow:Learning rate reduction is conditioned on metric `val_acc` which is not available. Available metrics are: loss,accuracy,val_loss,val_accuracy,lr\n"
          ],
          "name": "stderr"
        },
        {
          "output_type": "stream",
          "text": [
            "\n",
            "Epoch 00056: saving model to checkpoint.hdf5\n",
            "Epoch 57/100\n",
            "52/52 [==============================] - 0s 7ms/step - loss: 0.0675 - accuracy: 0.9864 - val_loss: 0.2122 - val_accuracy: 0.9352\n"
          ],
          "name": "stdout"
        },
        {
          "output_type": "stream",
          "text": [
            "WARNING:tensorflow:Learning rate reduction is conditioned on metric `val_acc` which is not available. Available metrics are: loss,accuracy,val_loss,val_accuracy,lr\n"
          ],
          "name": "stderr"
        },
        {
          "output_type": "stream",
          "text": [
            "\n",
            "Epoch 00057: saving model to checkpoint.hdf5\n",
            "Epoch 58/100\n",
            "52/52 [==============================] - 0s 7ms/step - loss: 0.0670 - accuracy: 0.9870 - val_loss: 0.2097 - val_accuracy: 0.9371\n"
          ],
          "name": "stdout"
        },
        {
          "output_type": "stream",
          "text": [
            "WARNING:tensorflow:Learning rate reduction is conditioned on metric `val_acc` which is not available. Available metrics are: loss,accuracy,val_loss,val_accuracy,lr\n"
          ],
          "name": "stderr"
        },
        {
          "output_type": "stream",
          "text": [
            "\n",
            "Epoch 00058: saving model to checkpoint.hdf5\n",
            "Epoch 59/100\n",
            "52/52 [==============================] - 0s 6ms/step - loss: 0.0694 - accuracy: 0.9849 - val_loss: 0.1972 - val_accuracy: 0.9383\n"
          ],
          "name": "stdout"
        },
        {
          "output_type": "stream",
          "text": [
            "WARNING:tensorflow:Learning rate reduction is conditioned on metric `val_acc` which is not available. Available metrics are: loss,accuracy,val_loss,val_accuracy,lr\n"
          ],
          "name": "stderr"
        },
        {
          "output_type": "stream",
          "text": [
            "\n",
            "Epoch 00059: saving model to checkpoint.hdf5\n",
            "Epoch 60/100\n",
            "52/52 [==============================] - 0s 7ms/step - loss: 0.0652 - accuracy: 0.9865 - val_loss: 0.2024 - val_accuracy: 0.9349\n"
          ],
          "name": "stdout"
        },
        {
          "output_type": "stream",
          "text": [
            "WARNING:tensorflow:Learning rate reduction is conditioned on metric `val_acc` which is not available. Available metrics are: loss,accuracy,val_loss,val_accuracy,lr\n"
          ],
          "name": "stderr"
        },
        {
          "output_type": "stream",
          "text": [
            "\n",
            "Epoch 00060: saving model to checkpoint.hdf5\n",
            "Epoch 61/100\n",
            "52/52 [==============================] - 0s 6ms/step - loss: 0.0630 - accuracy: 0.9876 - val_loss: 0.2103 - val_accuracy: 0.9316\n"
          ],
          "name": "stdout"
        },
        {
          "output_type": "stream",
          "text": [
            "WARNING:tensorflow:Learning rate reduction is conditioned on metric `val_acc` which is not available. Available metrics are: loss,accuracy,val_loss,val_accuracy,lr\n"
          ],
          "name": "stderr"
        },
        {
          "output_type": "stream",
          "text": [
            "\n",
            "Epoch 00061: saving model to checkpoint.hdf5\n",
            "Epoch 62/100\n",
            "52/52 [==============================] - 0s 6ms/step - loss: 0.0657 - accuracy: 0.9833 - val_loss: 0.2040 - val_accuracy: 0.9346\n"
          ],
          "name": "stdout"
        },
        {
          "output_type": "stream",
          "text": [
            "WARNING:tensorflow:Learning rate reduction is conditioned on metric `val_acc` which is not available. Available metrics are: loss,accuracy,val_loss,val_accuracy,lr\n"
          ],
          "name": "stderr"
        },
        {
          "output_type": "stream",
          "text": [
            "\n",
            "Epoch 00062: saving model to checkpoint.hdf5\n",
            "Epoch 63/100\n",
            "52/52 [==============================] - 0s 6ms/step - loss: 0.0604 - accuracy: 0.9870 - val_loss: 0.2334 - val_accuracy: 0.9183\n"
          ],
          "name": "stdout"
        },
        {
          "output_type": "stream",
          "text": [
            "WARNING:tensorflow:Learning rate reduction is conditioned on metric `val_acc` which is not available. Available metrics are: loss,accuracy,val_loss,val_accuracy,lr\n"
          ],
          "name": "stderr"
        },
        {
          "output_type": "stream",
          "text": [
            "\n",
            "Epoch 00063: saving model to checkpoint.hdf5\n",
            "Epoch 64/100\n",
            "48/52 [==========================>...] - ETA: 0s - loss: 0.0583 - accuracy: 0.9869"
          ],
          "name": "stdout"
        },
        {
          "output_type": "error",
          "ename": "KeyboardInterrupt",
          "evalue": "ignored",
          "traceback": [
            "\u001b[0;31m---------------------------------------------------------------------------\u001b[0m",
            "\u001b[0;31mKeyboardInterrupt\u001b[0m                         Traceback (most recent call last)",
            "\u001b[0;32m<ipython-input-130-c65158ad678e>\u001b[0m in \u001b[0;36m<module>\u001b[0;34m()\u001b[0m\n\u001b[1;32m      1\u001b[0m \u001b[0mscores\u001b[0m \u001b[0;34m=\u001b[0m \u001b[0;34m[\u001b[0m\u001b[0;34m]\u001b[0m\u001b[0;34m\u001b[0m\u001b[0;34m\u001b[0m\u001b[0m\n\u001b[1;32m      2\u001b[0m \u001b[0malgorithm\u001b[0m \u001b[0;34m=\u001b[0m \u001b[0mGreyWolfOptimizer\u001b[0m\u001b[0;34m(\u001b[0m\u001b[0;36m9\u001b[0m\u001b[0;34m,\u001b[0m \u001b[0;36m40\u001b[0m\u001b[0;34m,\u001b[0m \u001b[0;36m100\u001b[0m\u001b[0;34m,\u001b[0m\u001b[0mcnnbenchmark\u001b[0m\u001b[0;34m(\u001b[0m\u001b[0;34m)\u001b[0m\u001b[0;34m)\u001b[0m\u001b[0;34m\u001b[0m\u001b[0;34m\u001b[0m\u001b[0m\n\u001b[0;32m----> 3\u001b[0;31m \u001b[0mbest\u001b[0m \u001b[0;34m=\u001b[0m \u001b[0malgorithm\u001b[0m\u001b[0;34m.\u001b[0m\u001b[0mrun\u001b[0m\u001b[0;34m(\u001b[0m\u001b[0;34m)\u001b[0m\u001b[0;34m\u001b[0m\u001b[0;34m\u001b[0m\u001b[0m\n\u001b[0m\u001b[1;32m      4\u001b[0m \u001b[0;34m\u001b[0m\u001b[0m\n\u001b[1;32m      5\u001b[0m \u001b[0mprint\u001b[0m\u001b[0;34m(\u001b[0m\u001b[0;34m'Optimal CNN model parameters are:'\u001b[0m\u001b[0;34m)\u001b[0m\u001b[0;34m\u001b[0m\u001b[0;34m\u001b[0m\u001b[0m\n",
            "\u001b[0;32m/usr/local/lib/python3.6/dist-packages/NiaPy/algorithms/basic/gwo.py\u001b[0m in \u001b[0;36mrun\u001b[0;34m(self)\u001b[0m\n\u001b[1;32m    153\u001b[0m     \u001b[0;32mdef\u001b[0m \u001b[0mrun\u001b[0m\u001b[0;34m(\u001b[0m\u001b[0mself\u001b[0m\u001b[0;34m)\u001b[0m\u001b[0;34m:\u001b[0m\u001b[0;34m\u001b[0m\u001b[0;34m\u001b[0m\u001b[0m\n\u001b[1;32m    154\u001b[0m         \u001b[0;34m\"\"\"Run.\"\"\"\u001b[0m\u001b[0;34m\u001b[0m\u001b[0;34m\u001b[0m\u001b[0m\n\u001b[0;32m--> 155\u001b[0;31m         \u001b[0;32mreturn\u001b[0m \u001b[0mself\u001b[0m\u001b[0;34m.\u001b[0m\u001b[0mmove\u001b[0m\u001b[0;34m(\u001b[0m\u001b[0;34m)\u001b[0m\u001b[0;34m\u001b[0m\u001b[0;34m\u001b[0m\u001b[0m\n\u001b[0m",
            "\u001b[0;32m/usr/local/lib/python3.6/dist-packages/NiaPy/algorithms/basic/gwo.py\u001b[0m in \u001b[0;36mmove\u001b[0;34m(self)\u001b[0m\n\u001b[1;32m     98\u001b[0m                     \u001b[0;32mbreak\u001b[0m\u001b[0;34m\u001b[0m\u001b[0;34m\u001b[0m\u001b[0m\n\u001b[1;32m     99\u001b[0m \u001b[0;34m\u001b[0m\u001b[0m\n\u001b[0;32m--> 100\u001b[0;31m                 \u001b[0mFit\u001b[0m \u001b[0;34m=\u001b[0m \u001b[0mself\u001b[0m\u001b[0;34m.\u001b[0m\u001b[0mFun\u001b[0m\u001b[0;34m(\u001b[0m\u001b[0mself\u001b[0m\u001b[0;34m.\u001b[0m\u001b[0mD\u001b[0m\u001b[0;34m,\u001b[0m \u001b[0mself\u001b[0m\u001b[0;34m.\u001b[0m\u001b[0mPositions\u001b[0m\u001b[0;34m[\u001b[0m\u001b[0mi\u001b[0m\u001b[0;34m]\u001b[0m\u001b[0;34m)\u001b[0m\u001b[0;34m\u001b[0m\u001b[0;34m\u001b[0m\u001b[0m\n\u001b[0m\u001b[1;32m    101\u001b[0m                 \u001b[0mself\u001b[0m\u001b[0;34m.\u001b[0m\u001b[0mevaluations\u001b[0m \u001b[0;34m=\u001b[0m \u001b[0mself\u001b[0m\u001b[0;34m.\u001b[0m\u001b[0mevaluations\u001b[0m \u001b[0;34m+\u001b[0m \u001b[0;36m1\u001b[0m\u001b[0;34m\u001b[0m\u001b[0;34m\u001b[0m\u001b[0m\n\u001b[1;32m    102\u001b[0m \u001b[0;34m\u001b[0m\u001b[0m\n",
            "\u001b[0;32m<ipython-input-128-35f2f0797845>\u001b[0m in \u001b[0;36mevaluate\u001b[0;34m(D, solution)\u001b[0m\n\u001b[1;32m     64\u001b[0m           \u001b[0mdrop_neurons\u001b[0m\u001b[0;34m=\u001b[0m\u001b[0mdropout\u001b[0m\u001b[0;34m(\u001b[0m\u001b[0msolution\u001b[0m\u001b[0;34m[\u001b[0m\u001b[0;36m8\u001b[0m\u001b[0;34m]\u001b[0m\u001b[0;34m)\u001b[0m\u001b[0;34m\u001b[0m\u001b[0;34m\u001b[0m\u001b[0m\n\u001b[1;32m     65\u001b[0m \u001b[0;34m\u001b[0m\u001b[0m\n\u001b[0;32m---> 66\u001b[0;31m           \u001b[0maccuracy\u001b[0m \u001b[0;34m=\u001b[0m \u001b[0;36m1\u001b[0m \u001b[0;34m-\u001b[0m \u001b[0mmodel\u001b[0m\u001b[0;34m.\u001b[0m\u001b[0mmodel_build\u001b[0m\u001b[0;34m(\u001b[0m\u001b[0macc_cnn_layer\u001b[0m\u001b[0;34m,\u001b[0m\u001b[0macc_feed_layer\u001b[0m\u001b[0;34m,\u001b[0m\u001b[0moptimizer\u001b[0m\u001b[0;34m,\u001b[0m\u001b[0mepochs\u001b[0m\u001b[0;34m,\u001b[0m\u001b[0mbatch\u001b[0m\u001b[0;34m,\u001b[0m\u001b[0mfilters\u001b[0m\u001b[0;34m,\u001b[0m\u001b[0mneurons\u001b[0m\u001b[0;34m,\u001b[0m\u001b[0mkernel_s\u001b[0m\u001b[0;34m,\u001b[0m\u001b[0mdrop_neurons\u001b[0m\u001b[0;34m)\u001b[0m\u001b[0;34m\u001b[0m\u001b[0;34m\u001b[0m\u001b[0m\n\u001b[0m\u001b[1;32m     67\u001b[0m           \u001b[0mscores\u001b[0m\u001b[0;34m.\u001b[0m\u001b[0mappend\u001b[0m\u001b[0;34m(\u001b[0m\u001b[0;34m[\u001b[0m\u001b[0maccuracy\u001b[0m\u001b[0;34m,\u001b[0m\u001b[0macc_cnn_layer\u001b[0m\u001b[0;34m,\u001b[0m\u001b[0macc_feed_layer\u001b[0m\u001b[0;34m,\u001b[0m\u001b[0moptimizer\u001b[0m\u001b[0;34m,\u001b[0m\u001b[0mepochs\u001b[0m\u001b[0;34m,\u001b[0m\u001b[0mbatch\u001b[0m\u001b[0;34m,\u001b[0m\u001b[0mfilters\u001b[0m\u001b[0;34m,\u001b[0m\u001b[0mneurons\u001b[0m\u001b[0;34m,\u001b[0m\u001b[0mkernel_s\u001b[0m\u001b[0;34m,\u001b[0m\u001b[0mdrop_neurons\u001b[0m\u001b[0;34m]\u001b[0m\u001b[0;34m)\u001b[0m\u001b[0;34m\u001b[0m\u001b[0;34m\u001b[0m\u001b[0m\n\u001b[1;32m     68\u001b[0m           \u001b[0;32mreturn\u001b[0m \u001b[0maccuracy\u001b[0m\u001b[0;34m\u001b[0m\u001b[0;34m\u001b[0m\u001b[0m\n",
            "\u001b[0;32m<ipython-input-129-6156b620bb24>\u001b[0m in \u001b[0;36mmodel_build\u001b[0;34m(acc_cnn_layer, acc_feed_layer, optimizer, epochs, batch, filters, neurons, kernel_s, drop_neurons)\u001b[0m\n\u001b[1;32m     33\u001b[0m                         \u001b[0mvalidation_data\u001b[0m\u001b[0;34m=\u001b[0m\u001b[0;34m(\u001b[0m\u001b[0mX_test\u001b[0m\u001b[0;34m,\u001b[0m \u001b[0my_test\u001b[0m\u001b[0;34m)\u001b[0m\u001b[0;34m,\u001b[0m\u001b[0;34m\u001b[0m\u001b[0;34m\u001b[0m\u001b[0m\n\u001b[1;32m     34\u001b[0m                         \u001b[0mcallbacks\u001b[0m\u001b[0;34m=\u001b[0m\u001b[0;34m[\u001b[0m\u001b[0mreduce_lr\u001b[0m\u001b[0;34m,\u001b[0m \u001b[0mcheckpointer\u001b[0m\u001b[0;34m]\u001b[0m\u001b[0;34m,\u001b[0m\u001b[0;34m\u001b[0m\u001b[0;34m\u001b[0m\u001b[0m\n\u001b[0;32m---> 35\u001b[0;31m                         shuffle=True)\n\u001b[0m\u001b[1;32m     36\u001b[0m \u001b[0;34m\u001b[0m\u001b[0m\n\u001b[1;32m     37\u001b[0m     \u001b[0mmodel\u001b[0m\u001b[0;34m.\u001b[0m\u001b[0msave\u001b[0m\u001b[0;34m(\u001b[0m\u001b[0;34m'HSI_model_epochs100.h5'\u001b[0m\u001b[0;34m)\u001b[0m\u001b[0;34m\u001b[0m\u001b[0;34m\u001b[0m\u001b[0m\n",
            "\u001b[0;32m/usr/local/lib/python3.6/dist-packages/tensorflow/python/keras/engine/training.py\u001b[0m in \u001b[0;36mfit\u001b[0;34m(self, x, y, batch_size, epochs, verbose, callbacks, validation_split, validation_data, shuffle, class_weight, sample_weight, initial_epoch, steps_per_epoch, validation_steps, validation_batch_size, validation_freq, max_queue_size, workers, use_multiprocessing)\u001b[0m\n\u001b[1;32m   1098\u001b[0m                 _r=1):\n\u001b[1;32m   1099\u001b[0m               \u001b[0mcallbacks\u001b[0m\u001b[0;34m.\u001b[0m\u001b[0mon_train_batch_begin\u001b[0m\u001b[0;34m(\u001b[0m\u001b[0mstep\u001b[0m\u001b[0;34m)\u001b[0m\u001b[0;34m\u001b[0m\u001b[0;34m\u001b[0m\u001b[0m\n\u001b[0;32m-> 1100\u001b[0;31m               \u001b[0mtmp_logs\u001b[0m \u001b[0;34m=\u001b[0m \u001b[0mself\u001b[0m\u001b[0;34m.\u001b[0m\u001b[0mtrain_function\u001b[0m\u001b[0;34m(\u001b[0m\u001b[0miterator\u001b[0m\u001b[0;34m)\u001b[0m\u001b[0;34m\u001b[0m\u001b[0;34m\u001b[0m\u001b[0m\n\u001b[0m\u001b[1;32m   1101\u001b[0m               \u001b[0;32mif\u001b[0m \u001b[0mdata_handler\u001b[0m\u001b[0;34m.\u001b[0m\u001b[0mshould_sync\u001b[0m\u001b[0;34m:\u001b[0m\u001b[0;34m\u001b[0m\u001b[0;34m\u001b[0m\u001b[0m\n\u001b[1;32m   1102\u001b[0m                 \u001b[0mcontext\u001b[0m\u001b[0;34m.\u001b[0m\u001b[0masync_wait\u001b[0m\u001b[0;34m(\u001b[0m\u001b[0;34m)\u001b[0m\u001b[0;34m\u001b[0m\u001b[0;34m\u001b[0m\u001b[0m\n",
            "\u001b[0;32m/usr/local/lib/python3.6/dist-packages/tensorflow/python/eager/def_function.py\u001b[0m in \u001b[0;36m__call__\u001b[0;34m(self, *args, **kwds)\u001b[0m\n\u001b[1;32m    826\u001b[0m     \u001b[0mtracing_count\u001b[0m \u001b[0;34m=\u001b[0m \u001b[0mself\u001b[0m\u001b[0;34m.\u001b[0m\u001b[0mexperimental_get_tracing_count\u001b[0m\u001b[0;34m(\u001b[0m\u001b[0;34m)\u001b[0m\u001b[0;34m\u001b[0m\u001b[0;34m\u001b[0m\u001b[0m\n\u001b[1;32m    827\u001b[0m     \u001b[0;32mwith\u001b[0m \u001b[0mtrace\u001b[0m\u001b[0;34m.\u001b[0m\u001b[0mTrace\u001b[0m\u001b[0;34m(\u001b[0m\u001b[0mself\u001b[0m\u001b[0;34m.\u001b[0m\u001b[0m_name\u001b[0m\u001b[0;34m)\u001b[0m \u001b[0;32mas\u001b[0m \u001b[0mtm\u001b[0m\u001b[0;34m:\u001b[0m\u001b[0;34m\u001b[0m\u001b[0;34m\u001b[0m\u001b[0m\n\u001b[0;32m--> 828\u001b[0;31m       \u001b[0mresult\u001b[0m \u001b[0;34m=\u001b[0m \u001b[0mself\u001b[0m\u001b[0;34m.\u001b[0m\u001b[0m_call\u001b[0m\u001b[0;34m(\u001b[0m\u001b[0;34m*\u001b[0m\u001b[0margs\u001b[0m\u001b[0;34m,\u001b[0m \u001b[0;34m**\u001b[0m\u001b[0mkwds\u001b[0m\u001b[0;34m)\u001b[0m\u001b[0;34m\u001b[0m\u001b[0;34m\u001b[0m\u001b[0m\n\u001b[0m\u001b[1;32m    829\u001b[0m       \u001b[0mcompiler\u001b[0m \u001b[0;34m=\u001b[0m \u001b[0;34m\"xla\"\u001b[0m \u001b[0;32mif\u001b[0m \u001b[0mself\u001b[0m\u001b[0;34m.\u001b[0m\u001b[0m_experimental_compile\u001b[0m \u001b[0;32melse\u001b[0m \u001b[0;34m\"nonXla\"\u001b[0m\u001b[0;34m\u001b[0m\u001b[0;34m\u001b[0m\u001b[0m\n\u001b[1;32m    830\u001b[0m       \u001b[0mnew_tracing_count\u001b[0m \u001b[0;34m=\u001b[0m \u001b[0mself\u001b[0m\u001b[0;34m.\u001b[0m\u001b[0mexperimental_get_tracing_count\u001b[0m\u001b[0;34m(\u001b[0m\u001b[0;34m)\u001b[0m\u001b[0;34m\u001b[0m\u001b[0;34m\u001b[0m\u001b[0m\n",
            "\u001b[0;32m/usr/local/lib/python3.6/dist-packages/tensorflow/python/eager/def_function.py\u001b[0m in \u001b[0;36m_call\u001b[0;34m(self, *args, **kwds)\u001b[0m\n\u001b[1;32m    853\u001b[0m       \u001b[0;31m# In this case we have created variables on the first call, so we run the\u001b[0m\u001b[0;34m\u001b[0m\u001b[0;34m\u001b[0m\u001b[0;34m\u001b[0m\u001b[0m\n\u001b[1;32m    854\u001b[0m       \u001b[0;31m# defunned version which is guaranteed to never create variables.\u001b[0m\u001b[0;34m\u001b[0m\u001b[0;34m\u001b[0m\u001b[0;34m\u001b[0m\u001b[0m\n\u001b[0;32m--> 855\u001b[0;31m       \u001b[0;32mreturn\u001b[0m \u001b[0mself\u001b[0m\u001b[0;34m.\u001b[0m\u001b[0m_stateless_fn\u001b[0m\u001b[0;34m(\u001b[0m\u001b[0;34m*\u001b[0m\u001b[0margs\u001b[0m\u001b[0;34m,\u001b[0m \u001b[0;34m**\u001b[0m\u001b[0mkwds\u001b[0m\u001b[0;34m)\u001b[0m  \u001b[0;31m# pylint: disable=not-callable\u001b[0m\u001b[0;34m\u001b[0m\u001b[0;34m\u001b[0m\u001b[0m\n\u001b[0m\u001b[1;32m    856\u001b[0m     \u001b[0;32melif\u001b[0m \u001b[0mself\u001b[0m\u001b[0;34m.\u001b[0m\u001b[0m_stateful_fn\u001b[0m \u001b[0;32mis\u001b[0m \u001b[0;32mnot\u001b[0m \u001b[0;32mNone\u001b[0m\u001b[0;34m:\u001b[0m\u001b[0;34m\u001b[0m\u001b[0;34m\u001b[0m\u001b[0m\n\u001b[1;32m    857\u001b[0m       \u001b[0;31m# Release the lock early so that multiple threads can perform the call\u001b[0m\u001b[0;34m\u001b[0m\u001b[0;34m\u001b[0m\u001b[0;34m\u001b[0m\u001b[0m\n",
            "\u001b[0;32m/usr/local/lib/python3.6/dist-packages/tensorflow/python/eager/function.py\u001b[0m in \u001b[0;36m__call__\u001b[0;34m(self, *args, **kwargs)\u001b[0m\n\u001b[1;32m   2941\u001b[0m        filtered_flat_args) = self._maybe_define_function(args, kwargs)\n\u001b[1;32m   2942\u001b[0m     return graph_function._call_flat(\n\u001b[0;32m-> 2943\u001b[0;31m         filtered_flat_args, captured_inputs=graph_function.captured_inputs)  # pylint: disable=protected-access\n\u001b[0m\u001b[1;32m   2944\u001b[0m \u001b[0;34m\u001b[0m\u001b[0m\n\u001b[1;32m   2945\u001b[0m   \u001b[0;34m@\u001b[0m\u001b[0mproperty\u001b[0m\u001b[0;34m\u001b[0m\u001b[0;34m\u001b[0m\u001b[0m\n",
            "\u001b[0;32m/usr/local/lib/python3.6/dist-packages/tensorflow/python/eager/function.py\u001b[0m in \u001b[0;36m_call_flat\u001b[0;34m(self, args, captured_inputs, cancellation_manager)\u001b[0m\n\u001b[1;32m   1917\u001b[0m       \u001b[0;31m# No tape is watching; skip to running the function.\u001b[0m\u001b[0;34m\u001b[0m\u001b[0;34m\u001b[0m\u001b[0;34m\u001b[0m\u001b[0m\n\u001b[1;32m   1918\u001b[0m       return self._build_call_outputs(self._inference_function.call(\n\u001b[0;32m-> 1919\u001b[0;31m           ctx, args, cancellation_manager=cancellation_manager))\n\u001b[0m\u001b[1;32m   1920\u001b[0m     forward_backward = self._select_forward_and_backward_functions(\n\u001b[1;32m   1921\u001b[0m         \u001b[0margs\u001b[0m\u001b[0;34m,\u001b[0m\u001b[0;34m\u001b[0m\u001b[0;34m\u001b[0m\u001b[0m\n",
            "\u001b[0;32m/usr/local/lib/python3.6/dist-packages/tensorflow/python/eager/function.py\u001b[0m in \u001b[0;36mcall\u001b[0;34m(self, ctx, args, cancellation_manager)\u001b[0m\n\u001b[1;32m    558\u001b[0m               \u001b[0minputs\u001b[0m\u001b[0;34m=\u001b[0m\u001b[0margs\u001b[0m\u001b[0;34m,\u001b[0m\u001b[0;34m\u001b[0m\u001b[0;34m\u001b[0m\u001b[0m\n\u001b[1;32m    559\u001b[0m               \u001b[0mattrs\u001b[0m\u001b[0;34m=\u001b[0m\u001b[0mattrs\u001b[0m\u001b[0;34m,\u001b[0m\u001b[0;34m\u001b[0m\u001b[0;34m\u001b[0m\u001b[0m\n\u001b[0;32m--> 560\u001b[0;31m               ctx=ctx)\n\u001b[0m\u001b[1;32m    561\u001b[0m         \u001b[0;32melse\u001b[0m\u001b[0;34m:\u001b[0m\u001b[0;34m\u001b[0m\u001b[0;34m\u001b[0m\u001b[0m\n\u001b[1;32m    562\u001b[0m           outputs = execute.execute_with_cancellation(\n",
            "\u001b[0;32m/usr/local/lib/python3.6/dist-packages/tensorflow/python/eager/execute.py\u001b[0m in \u001b[0;36mquick_execute\u001b[0;34m(op_name, num_outputs, inputs, attrs, ctx, name)\u001b[0m\n\u001b[1;32m     58\u001b[0m     \u001b[0mctx\u001b[0m\u001b[0;34m.\u001b[0m\u001b[0mensure_initialized\u001b[0m\u001b[0;34m(\u001b[0m\u001b[0;34m)\u001b[0m\u001b[0;34m\u001b[0m\u001b[0;34m\u001b[0m\u001b[0m\n\u001b[1;32m     59\u001b[0m     tensors = pywrap_tfe.TFE_Py_Execute(ctx._handle, device_name, op_name,\n\u001b[0;32m---> 60\u001b[0;31m                                         inputs, attrs, num_outputs)\n\u001b[0m\u001b[1;32m     61\u001b[0m   \u001b[0;32mexcept\u001b[0m \u001b[0mcore\u001b[0m\u001b[0;34m.\u001b[0m\u001b[0m_NotOkStatusException\u001b[0m \u001b[0;32mas\u001b[0m \u001b[0me\u001b[0m\u001b[0;34m:\u001b[0m\u001b[0;34m\u001b[0m\u001b[0;34m\u001b[0m\u001b[0m\n\u001b[1;32m     62\u001b[0m     \u001b[0;32mif\u001b[0m \u001b[0mname\u001b[0m \u001b[0;32mis\u001b[0m \u001b[0;32mnot\u001b[0m \u001b[0;32mNone\u001b[0m\u001b[0;34m:\u001b[0m\u001b[0;34m\u001b[0m\u001b[0;34m\u001b[0m\u001b[0m\n",
            "\u001b[0;31mKeyboardInterrupt\u001b[0m: "
          ]
        }
      ]
    },
    {
      "cell_type": "code",
      "metadata": {
        "id": "RD564MCVXSe-"
      },
      "source": [
        "from keras.utils.vis_utils import plot_model"
      ],
      "execution_count": null,
      "outputs": []
    },
    {
      "cell_type": "code",
      "metadata": {
        "id": "9fGhHbqnDEzH"
      },
      "source": [
        "# Define the model structure\n",
        "model = Sequential()\n",
        "\n",
        "model.add(Conv2D(64, (3, 3), activation='relu', input_shape=input_shape))\n",
        "model.add(Conv2D(128, (3, 3), activation='relu'))\n",
        "\n",
        "model.add(Flatten())\n",
        "model.add(Dense(6*numPCAcomponents, activation='relu'))\n",
        "model.add(Dense(16, activation='softmax'))"
      ],
      "execution_count": null,
      "outputs": []
    },
    {
      "cell_type": "code",
      "metadata": {
        "id": "rv2_ZYm6DLDB"
      },
      "source": [
        "# Define optimization and train method\n",
        "reduce_lr = ReduceLROnPlateau(monitor='val_acc', factor=0.9, patience=25, \n",
        "                              min_lr=0.000001, verbose=1)\n",
        "checkpointer = ModelCheckpoint(filepath=\"checkpoint.hdf5\", verbose=1, \n",
        "                              save_best_only=False)\n",
        "sgd = SGD(lr=0.001, decay=1e-6, momentum=0.9, nesterov=True)\n",
        "model.compile(loss='categorical_crossentropy', optimizer=\"adam\", \n",
        "                              metrics=['accuracy'])"
      ],
      "execution_count": null,
      "outputs": []
    },
    {
      "cell_type": "code",
      "metadata": {
        "id": "H58gxBJHZTd3",
        "colab": {
          "base_uri": "https://localhost:8080/",
          "height": 644
        },
        "outputId": "7e555aae-312a-4a8e-ed6e-c3695165f8d1"
      },
      "source": [
        "plot_model(model, to_file='model_plot.png', show_shapes=True, show_layer_names=True)"
      ],
      "execution_count": null,
      "outputs": [
        {
          "output_type": "execute_result",
          "data": {
            "image/png": "[encoded data removed]",
            "text/plain": [
              "<IPython.core.display.Image object>"
            ]
          },
          "metadata": {
            "tags": []
          },
          "execution_count": 134
        }
      ]
    },
    {
      "cell_type": "code",
      "metadata": {
        "id": "DPS2WNm6DQ4v",
        "colab": {
          "base_uri": "https://localhost:8080/"
        },
        "outputId": "a764ea63-aaaf-4596-e94a-3d689925d407"
      },
      "source": [
        "# Start to train model \n",
        "history = model.fit(X_train, y_train, \n",
        "                    batch_size=210, \n",
        "                    epochs=50, \n",
        "                    verbose=1, \n",
        "                    validation_data=(X_test, y_test),\n",
        "                    callbacks=[reduce_lr, checkpointer],\n",
        "                    shuffle=True)"
      ],
      "execution_count": null,
      "outputs": [
        {
          "output_type": "stream",
          "text": [
            "Epoch 1/50\n",
            "38/38 [==============================] - 1s 12ms/step - loss: 1.9698 - accuracy: 0.3699 - val_loss: 0.9639 - val_accuracy: 0.6900\n"
          ],
          "name": "stdout"
        },
        {
          "output_type": "stream",
          "text": [
            "WARNING:tensorflow:Learning rate reduction is conditioned on metric `val_acc` which is not available. Available metrics are: loss,accuracy,val_loss,val_accuracy,lr\n"
          ],
          "name": "stderr"
        },
        {
          "output_type": "stream",
          "text": [
            "\n",
            "Epoch 00001: saving model to checkpoint.hdf5\n",
            "Epoch 2/50\n",
            "38/38 [==============================] - 0s 7ms/step - loss: 0.5685 - accuracy: 0.8075 - val_loss: 0.6949 - val_accuracy: 0.7939\n"
          ],
          "name": "stdout"
        },
        {
          "output_type": "stream",
          "text": [
            "WARNING:tensorflow:Learning rate reduction is conditioned on metric `val_acc` which is not available. Available metrics are: loss,accuracy,val_loss,val_accuracy,lr\n"
          ],
          "name": "stderr"
        },
        {
          "output_type": "stream",
          "text": [
            "\n",
            "Epoch 00002: saving model to checkpoint.hdf5\n",
            "Epoch 3/50\n",
            "38/38 [==============================] - 0s 7ms/step - loss: 0.3112 - accuracy: 0.9029 - val_loss: 0.3778 - val_accuracy: 0.8838\n"
          ],
          "name": "stdout"
        },
        {
          "output_type": "stream",
          "text": [
            "WARNING:tensorflow:Learning rate reduction is conditioned on metric `val_acc` which is not available. Available metrics are: loss,accuracy,val_loss,val_accuracy,lr\n"
          ],
          "name": "stderr"
        },
        {
          "output_type": "stream",
          "text": [
            "\n",
            "Epoch 00003: saving model to checkpoint.hdf5\n",
            "Epoch 4/50\n",
            "38/38 [==============================] - 0s 7ms/step - loss: 0.2094 - accuracy: 0.9325 - val_loss: 0.3258 - val_accuracy: 0.8894\n"
          ],
          "name": "stdout"
        },
        {
          "output_type": "stream",
          "text": [
            "WARNING:tensorflow:Learning rate reduction is conditioned on metric `val_acc` which is not available. Available metrics are: loss,accuracy,val_loss,val_accuracy,lr\n"
          ],
          "name": "stderr"
        },
        {
          "output_type": "stream",
          "text": [
            "\n",
            "Epoch 00004: saving model to checkpoint.hdf5\n",
            "Epoch 5/50\n",
            "38/38 [==============================] - 0s 7ms/step - loss: 0.1365 - accuracy: 0.9597 - val_loss: 0.2395 - val_accuracy: 0.9204\n"
          ],
          "name": "stdout"
        },
        {
          "output_type": "stream",
          "text": [
            "WARNING:tensorflow:Learning rate reduction is conditioned on metric `val_acc` which is not available. Available metrics are: loss,accuracy,val_loss,val_accuracy,lr\n"
          ],
          "name": "stderr"
        },
        {
          "output_type": "stream",
          "text": [
            "\n",
            "Epoch 00005: saving model to checkpoint.hdf5\n",
            "Epoch 6/50\n",
            "38/38 [==============================] - 0s 7ms/step - loss: 0.0939 - accuracy: 0.9747 - val_loss: 0.1972 - val_accuracy: 0.9321\n"
          ],
          "name": "stdout"
        },
        {
          "output_type": "stream",
          "text": [
            "WARNING:tensorflow:Learning rate reduction is conditioned on metric `val_acc` which is not available. Available metrics are: loss,accuracy,val_loss,val_accuracy,lr\n"
          ],
          "name": "stderr"
        },
        {
          "output_type": "stream",
          "text": [
            "\n",
            "Epoch 00006: saving model to checkpoint.hdf5\n",
            "Epoch 7/50\n",
            "38/38 [==============================] - 0s 7ms/step - loss: 0.0634 - accuracy: 0.9855 - val_loss: 0.1658 - val_accuracy: 0.9433\n"
          ],
          "name": "stdout"
        },
        {
          "output_type": "stream",
          "text": [
            "WARNING:tensorflow:Learning rate reduction is conditioned on metric `val_acc` which is not available. Available metrics are: loss,accuracy,val_loss,val_accuracy,lr\n"
          ],
          "name": "stderr"
        },
        {
          "output_type": "stream",
          "text": [
            "\n",
            "Epoch 00007: saving model to checkpoint.hdf5\n",
            "Epoch 8/50\n",
            "38/38 [==============================] - 0s 7ms/step - loss: 0.0452 - accuracy: 0.9906 - val_loss: 0.1877 - val_accuracy: 0.9432\n"
          ],
          "name": "stdout"
        },
        {
          "output_type": "stream",
          "text": [
            "WARNING:tensorflow:Learning rate reduction is conditioned on metric `val_acc` which is not available. Available metrics are: loss,accuracy,val_loss,val_accuracy,lr\n"
          ],
          "name": "stderr"
        },
        {
          "output_type": "stream",
          "text": [
            "\n",
            "Epoch 00008: saving model to checkpoint.hdf5\n",
            "Epoch 9/50\n",
            "38/38 [==============================] - 0s 7ms/step - loss: 0.0403 - accuracy: 0.9920 - val_loss: 0.1731 - val_accuracy: 0.9441\n"
          ],
          "name": "stdout"
        },
        {
          "output_type": "stream",
          "text": [
            "WARNING:tensorflow:Learning rate reduction is conditioned on metric `val_acc` which is not available. Available metrics are: loss,accuracy,val_loss,val_accuracy,lr\n"
          ],
          "name": "stderr"
        },
        {
          "output_type": "stream",
          "text": [
            "\n",
            "Epoch 00009: saving model to checkpoint.hdf5\n",
            "Epoch 10/50\n",
            "38/38 [==============================] - 0s 7ms/step - loss: 0.0345 - accuracy: 0.9916 - val_loss: 0.1071 - val_accuracy: 0.9648\n"
          ],
          "name": "stdout"
        },
        {
          "output_type": "stream",
          "text": [
            "WARNING:tensorflow:Learning rate reduction is conditioned on metric `val_acc` which is not available. Available metrics are: loss,accuracy,val_loss,val_accuracy,lr\n"
          ],
          "name": "stderr"
        },
        {
          "output_type": "stream",
          "text": [
            "\n",
            "Epoch 00010: saving model to checkpoint.hdf5\n",
            "Epoch 11/50\n",
            "38/38 [==============================] - 0s 7ms/step - loss: 0.0211 - accuracy: 0.9964 - val_loss: 0.1186 - val_accuracy: 0.9645\n"
          ],
          "name": "stdout"
        },
        {
          "output_type": "stream",
          "text": [
            "WARNING:tensorflow:Learning rate reduction is conditioned on metric `val_acc` which is not available. Available metrics are: loss,accuracy,val_loss,val_accuracy,lr\n"
          ],
          "name": "stderr"
        },
        {
          "output_type": "stream",
          "text": [
            "\n",
            "Epoch 00011: saving model to checkpoint.hdf5\n",
            "Epoch 12/50\n",
            "38/38 [==============================] - 0s 7ms/step - loss: 0.0151 - accuracy: 0.9975 - val_loss: 0.0917 - val_accuracy: 0.9709\n"
          ],
          "name": "stdout"
        },
        {
          "output_type": "stream",
          "text": [
            "WARNING:tensorflow:Learning rate reduction is conditioned on metric `val_acc` which is not available. Available metrics are: loss,accuracy,val_loss,val_accuracy,lr\n"
          ],
          "name": "stderr"
        },
        {
          "output_type": "stream",
          "text": [
            "\n",
            "Epoch 00012: saving model to checkpoint.hdf5\n",
            "Epoch 13/50\n",
            "38/38 [==============================] - 0s 7ms/step - loss: 0.0080 - accuracy: 0.9997 - val_loss: 0.0971 - val_accuracy: 0.9709\n"
          ],
          "name": "stdout"
        },
        {
          "output_type": "stream",
          "text": [
            "WARNING:tensorflow:Learning rate reduction is conditioned on metric `val_acc` which is not available. Available metrics are: loss,accuracy,val_loss,val_accuracy,lr\n"
          ],
          "name": "stderr"
        },
        {
          "output_type": "stream",
          "text": [
            "\n",
            "Epoch 00013: saving model to checkpoint.hdf5\n",
            "Epoch 14/50\n",
            "38/38 [==============================] - 0s 7ms/step - loss: 0.0073 - accuracy: 1.0000 - val_loss: 0.0908 - val_accuracy: 0.9733\n"
          ],
          "name": "stdout"
        },
        {
          "output_type": "stream",
          "text": [
            "WARNING:tensorflow:Learning rate reduction is conditioned on metric `val_acc` which is not available. Available metrics are: loss,accuracy,val_loss,val_accuracy,lr\n"
          ],
          "name": "stderr"
        },
        {
          "output_type": "stream",
          "text": [
            "\n",
            "Epoch 00014: saving model to checkpoint.hdf5\n",
            "Epoch 15/50\n",
            "38/38 [==============================] - 0s 7ms/step - loss: 0.0061 - accuracy: 0.9997 - val_loss: 0.0929 - val_accuracy: 0.9713\n"
          ],
          "name": "stdout"
        },
        {
          "output_type": "stream",
          "text": [
            "WARNING:tensorflow:Learning rate reduction is conditioned on metric `val_acc` which is not available. Available metrics are: loss,accuracy,val_loss,val_accuracy,lr\n"
          ],
          "name": "stderr"
        },
        {
          "output_type": "stream",
          "text": [
            "\n",
            "Epoch 00015: saving model to checkpoint.hdf5\n",
            "Epoch 16/50\n",
            "38/38 [==============================] - 0s 7ms/step - loss: 0.0054 - accuracy: 0.9999 - val_loss: 0.0956 - val_accuracy: 0.9700\n"
          ],
          "name": "stdout"
        },
        {
          "output_type": "stream",
          "text": [
            "WARNING:tensorflow:Learning rate reduction is conditioned on metric `val_acc` which is not available. Available metrics are: loss,accuracy,val_loss,val_accuracy,lr\n"
          ],
          "name": "stderr"
        },
        {
          "output_type": "stream",
          "text": [
            "\n",
            "Epoch 00016: saving model to checkpoint.hdf5\n",
            "Epoch 17/50\n",
            "38/38 [==============================] - 0s 7ms/step - loss: 0.0040 - accuracy: 0.9999 - val_loss: 0.0938 - val_accuracy: 0.9717\n"
          ],
          "name": "stdout"
        },
        {
          "output_type": "stream",
          "text": [
            "WARNING:tensorflow:Learning rate reduction is conditioned on metric `val_acc` which is not available. Available metrics are: loss,accuracy,val_loss,val_accuracy,lr\n"
          ],
          "name": "stderr"
        },
        {
          "output_type": "stream",
          "text": [
            "\n",
            "Epoch 00017: saving model to checkpoint.hdf5\n",
            "Epoch 18/50\n",
            "38/38 [==============================] - 0s 7ms/step - loss: 0.0031 - accuracy: 1.0000 - val_loss: 0.0799 - val_accuracy: 0.9767\n"
          ],
          "name": "stdout"
        },
        {
          "output_type": "stream",
          "text": [
            "WARNING:tensorflow:Learning rate reduction is conditioned on metric `val_acc` which is not available. Available metrics are: loss,accuracy,val_loss,val_accuracy,lr\n"
          ],
          "name": "stderr"
        },
        {
          "output_type": "stream",
          "text": [
            "\n",
            "Epoch 00018: saving model to checkpoint.hdf5\n",
            "Epoch 19/50\n",
            "38/38 [==============================] - 0s 7ms/step - loss: 0.0025 - accuracy: 1.0000 - val_loss: 0.1042 - val_accuracy: 0.9682\n"
          ],
          "name": "stdout"
        },
        {
          "output_type": "stream",
          "text": [
            "WARNING:tensorflow:Learning rate reduction is conditioned on metric `val_acc` which is not available. Available metrics are: loss,accuracy,val_loss,val_accuracy,lr\n"
          ],
          "name": "stderr"
        },
        {
          "output_type": "stream",
          "text": [
            "\n",
            "Epoch 00019: saving model to checkpoint.hdf5\n",
            "Epoch 20/50\n",
            "38/38 [==============================] - 0s 7ms/step - loss: 0.0024 - accuracy: 1.0000 - val_loss: 0.0875 - val_accuracy: 0.9735\n"
          ],
          "name": "stdout"
        },
        {
          "output_type": "stream",
          "text": [
            "WARNING:tensorflow:Learning rate reduction is conditioned on metric `val_acc` which is not available. Available metrics are: loss,accuracy,val_loss,val_accuracy,lr\n"
          ],
          "name": "stderr"
        },
        {
          "output_type": "stream",
          "text": [
            "\n",
            "Epoch 00020: saving model to checkpoint.hdf5\n",
            "Epoch 21/50\n",
            "38/38 [==============================] - 0s 7ms/step - loss: 0.0018 - accuracy: 1.0000 - val_loss: 0.0876 - val_accuracy: 0.9737\n"
          ],
          "name": "stdout"
        },
        {
          "output_type": "stream",
          "text": [
            "WARNING:tensorflow:Learning rate reduction is conditioned on metric `val_acc` which is not available. Available metrics are: loss,accuracy,val_loss,val_accuracy,lr\n"
          ],
          "name": "stderr"
        },
        {
          "output_type": "stream",
          "text": [
            "\n",
            "Epoch 00021: saving model to checkpoint.hdf5\n",
            "Epoch 22/50\n",
            "38/38 [==============================] - 0s 10ms/step - loss: 0.0017 - accuracy: 1.0000 - val_loss: 0.0894 - val_accuracy: 0.9735\n"
          ],
          "name": "stdout"
        },
        {
          "output_type": "stream",
          "text": [
            "WARNING:tensorflow:Learning rate reduction is conditioned on metric `val_acc` which is not available. Available metrics are: loss,accuracy,val_loss,val_accuracy,lr\n"
          ],
          "name": "stderr"
        },
        {
          "output_type": "stream",
          "text": [
            "\n",
            "Epoch 00022: saving model to checkpoint.hdf5\n",
            "Epoch 23/50\n",
            "38/38 [==============================] - 0s 7ms/step - loss: 0.0016 - accuracy: 1.0000 - val_loss: 0.0896 - val_accuracy: 0.9737\n"
          ],
          "name": "stdout"
        },
        {
          "output_type": "stream",
          "text": [
            "WARNING:tensorflow:Learning rate reduction is conditioned on metric `val_acc` which is not available. Available metrics are: loss,accuracy,val_loss,val_accuracy,lr\n"
          ],
          "name": "stderr"
        },
        {
          "output_type": "stream",
          "text": [
            "\n",
            "Epoch 00023: saving model to checkpoint.hdf5\n",
            "Epoch 24/50\n",
            "38/38 [==============================] - 0s 7ms/step - loss: 0.0015 - accuracy: 1.0000 - val_loss: 0.0885 - val_accuracy: 0.9740\n"
          ],
          "name": "stdout"
        },
        {
          "output_type": "stream",
          "text": [
            "WARNING:tensorflow:Learning rate reduction is conditioned on metric `val_acc` which is not available. Available metrics are: loss,accuracy,val_loss,val_accuracy,lr\n"
          ],
          "name": "stderr"
        },
        {
          "output_type": "stream",
          "text": [
            "\n",
            "Epoch 00024: saving model to checkpoint.hdf5\n",
            "Epoch 25/50\n",
            "38/38 [==============================] - 0s 7ms/step - loss: 0.0013 - accuracy: 1.0000 - val_loss: 0.0922 - val_accuracy: 0.9734\n"
          ],
          "name": "stdout"
        },
        {
          "output_type": "stream",
          "text": [
            "WARNING:tensorflow:Learning rate reduction is conditioned on metric `val_acc` which is not available. Available metrics are: loss,accuracy,val_loss,val_accuracy,lr\n"
          ],
          "name": "stderr"
        },
        {
          "output_type": "stream",
          "text": [
            "\n",
            "Epoch 00025: saving model to checkpoint.hdf5\n",
            "Epoch 26/50\n",
            "38/38 [==============================] - 0s 7ms/step - loss: 9.9741e-04 - accuracy: 1.0000 - val_loss: 0.0925 - val_accuracy: 0.9733\n"
          ],
          "name": "stdout"
        },
        {
          "output_type": "stream",
          "text": [
            "WARNING:tensorflow:Learning rate reduction is conditioned on metric `val_acc` which is not available. Available metrics are: loss,accuracy,val_loss,val_accuracy,lr\n"
          ],
          "name": "stderr"
        },
        {
          "output_type": "stream",
          "text": [
            "\n",
            "Epoch 00026: saving model to checkpoint.hdf5\n",
            "Epoch 27/50\n",
            "38/38 [==============================] - 0s 7ms/step - loss: 9.8215e-04 - accuracy: 1.0000 - val_loss: 0.0902 - val_accuracy: 0.9729\n"
          ],
          "name": "stdout"
        },
        {
          "output_type": "stream",
          "text": [
            "WARNING:tensorflow:Learning rate reduction is conditioned on metric `val_acc` which is not available. Available metrics are: loss,accuracy,val_loss,val_accuracy,lr\n"
          ],
          "name": "stderr"
        },
        {
          "output_type": "stream",
          "text": [
            "\n",
            "Epoch 00027: saving model to checkpoint.hdf5\n",
            "Epoch 28/50\n",
            "38/38 [==============================] - 0s 7ms/step - loss: 8.6925e-04 - accuracy: 1.0000 - val_loss: 0.0875 - val_accuracy: 0.9739\n"
          ],
          "name": "stdout"
        },
        {
          "output_type": "stream",
          "text": [
            "WARNING:tensorflow:Learning rate reduction is conditioned on metric `val_acc` which is not available. Available metrics are: loss,accuracy,val_loss,val_accuracy,lr\n"
          ],
          "name": "stderr"
        },
        {
          "output_type": "stream",
          "text": [
            "\n",
            "Epoch 00028: saving model to checkpoint.hdf5\n",
            "Epoch 29/50\n",
            "38/38 [==============================] - 0s 7ms/step - loss: 8.6255e-04 - accuracy: 1.0000 - val_loss: 0.0922 - val_accuracy: 0.9739\n"
          ],
          "name": "stdout"
        },
        {
          "output_type": "stream",
          "text": [
            "WARNING:tensorflow:Learning rate reduction is conditioned on metric `val_acc` which is not available. Available metrics are: loss,accuracy,val_loss,val_accuracy,lr\n"
          ],
          "name": "stderr"
        },
        {
          "output_type": "stream",
          "text": [
            "\n",
            "Epoch 00029: saving model to checkpoint.hdf5\n",
            "Epoch 30/50\n",
            "38/38 [==============================] - 0s 7ms/step - loss: 8.0744e-04 - accuracy: 1.0000 - val_loss: 0.0875 - val_accuracy: 0.9756\n"
          ],
          "name": "stdout"
        },
        {
          "output_type": "stream",
          "text": [
            "WARNING:tensorflow:Learning rate reduction is conditioned on metric `val_acc` which is not available. Available metrics are: loss,accuracy,val_loss,val_accuracy,lr\n"
          ],
          "name": "stderr"
        },
        {
          "output_type": "stream",
          "text": [
            "\n",
            "Epoch 00030: saving model to checkpoint.hdf5\n",
            "Epoch 31/50\n",
            "38/38 [==============================] - 0s 7ms/step - loss: 7.0799e-04 - accuracy: 1.0000 - val_loss: 0.0887 - val_accuracy: 0.9760\n"
          ],
          "name": "stdout"
        },
        {
          "output_type": "stream",
          "text": [
            "WARNING:tensorflow:Learning rate reduction is conditioned on metric `val_acc` which is not available. Available metrics are: loss,accuracy,val_loss,val_accuracy,lr\n"
          ],
          "name": "stderr"
        },
        {
          "output_type": "stream",
          "text": [
            "\n",
            "Epoch 00031: saving model to checkpoint.hdf5\n",
            "Epoch 32/50\n",
            "38/38 [==============================] - 0s 7ms/step - loss: 6.4645e-04 - accuracy: 1.0000 - val_loss: 0.0886 - val_accuracy: 0.9748\n"
          ],
          "name": "stdout"
        },
        {
          "output_type": "stream",
          "text": [
            "WARNING:tensorflow:Learning rate reduction is conditioned on metric `val_acc` which is not available. Available metrics are: loss,accuracy,val_loss,val_accuracy,lr\n"
          ],
          "name": "stderr"
        },
        {
          "output_type": "stream",
          "text": [
            "\n",
            "Epoch 00032: saving model to checkpoint.hdf5\n",
            "Epoch 33/50\n",
            "38/38 [==============================] - 0s 7ms/step - loss: 6.2273e-04 - accuracy: 1.0000 - val_loss: 0.0913 - val_accuracy: 0.9763\n"
          ],
          "name": "stdout"
        },
        {
          "output_type": "stream",
          "text": [
            "WARNING:tensorflow:Learning rate reduction is conditioned on metric `val_acc` which is not available. Available metrics are: loss,accuracy,val_loss,val_accuracy,lr\n"
          ],
          "name": "stderr"
        },
        {
          "output_type": "stream",
          "text": [
            "\n",
            "Epoch 00033: saving model to checkpoint.hdf5\n",
            "Epoch 34/50\n",
            "38/38 [==============================] - 0s 7ms/step - loss: 5.4233e-04 - accuracy: 1.0000 - val_loss: 0.0953 - val_accuracy: 0.9738\n"
          ],
          "name": "stdout"
        },
        {
          "output_type": "stream",
          "text": [
            "WARNING:tensorflow:Learning rate reduction is conditioned on metric `val_acc` which is not available. Available metrics are: loss,accuracy,val_loss,val_accuracy,lr\n"
          ],
          "name": "stderr"
        },
        {
          "output_type": "stream",
          "text": [
            "\n",
            "Epoch 00034: saving model to checkpoint.hdf5\n",
            "Epoch 35/50\n",
            "38/38 [==============================] - 0s 7ms/step - loss: 5.4256e-04 - accuracy: 1.0000 - val_loss: 0.0899 - val_accuracy: 0.9763\n"
          ],
          "name": "stdout"
        },
        {
          "output_type": "stream",
          "text": [
            "WARNING:tensorflow:Learning rate reduction is conditioned on metric `val_acc` which is not available. Available metrics are: loss,accuracy,val_loss,val_accuracy,lr\n"
          ],
          "name": "stderr"
        },
        {
          "output_type": "stream",
          "text": [
            "\n",
            "Epoch 00035: saving model to checkpoint.hdf5\n",
            "Epoch 36/50\n",
            "38/38 [==============================] - 0s 7ms/step - loss: 5.0122e-04 - accuracy: 1.0000 - val_loss: 0.0907 - val_accuracy: 0.9739\n"
          ],
          "name": "stdout"
        },
        {
          "output_type": "stream",
          "text": [
            "WARNING:tensorflow:Learning rate reduction is conditioned on metric `val_acc` which is not available. Available metrics are: loss,accuracy,val_loss,val_accuracy,lr\n"
          ],
          "name": "stderr"
        },
        {
          "output_type": "stream",
          "text": [
            "\n",
            "Epoch 00036: saving model to checkpoint.hdf5\n",
            "Epoch 37/50\n",
            "38/38 [==============================] - 0s 7ms/step - loss: 4.8440e-04 - accuracy: 1.0000 - val_loss: 0.0913 - val_accuracy: 0.9744\n"
          ],
          "name": "stdout"
        },
        {
          "output_type": "stream",
          "text": [
            "WARNING:tensorflow:Learning rate reduction is conditioned on metric `val_acc` which is not available. Available metrics are: loss,accuracy,val_loss,val_accuracy,lr\n"
          ],
          "name": "stderr"
        },
        {
          "output_type": "stream",
          "text": [
            "\n",
            "Epoch 00037: saving model to checkpoint.hdf5\n",
            "Epoch 38/50\n",
            "38/38 [==============================] - 0s 7ms/step - loss: 4.4328e-04 - accuracy: 1.0000 - val_loss: 0.0918 - val_accuracy: 0.9765\n"
          ],
          "name": "stdout"
        },
        {
          "output_type": "stream",
          "text": [
            "WARNING:tensorflow:Learning rate reduction is conditioned on metric `val_acc` which is not available. Available metrics are: loss,accuracy,val_loss,val_accuracy,lr\n"
          ],
          "name": "stderr"
        },
        {
          "output_type": "stream",
          "text": [
            "\n",
            "Epoch 00038: saving model to checkpoint.hdf5\n",
            "Epoch 39/50\n",
            "38/38 [==============================] - 0s 7ms/step - loss: 4.1748e-04 - accuracy: 1.0000 - val_loss: 0.0937 - val_accuracy: 0.9759\n"
          ],
          "name": "stdout"
        },
        {
          "output_type": "stream",
          "text": [
            "WARNING:tensorflow:Learning rate reduction is conditioned on metric `val_acc` which is not available. Available metrics are: loss,accuracy,val_loss,val_accuracy,lr\n"
          ],
          "name": "stderr"
        },
        {
          "output_type": "stream",
          "text": [
            "\n",
            "Epoch 00039: saving model to checkpoint.hdf5\n",
            "Epoch 40/50\n",
            "38/38 [==============================] - 0s 7ms/step - loss: 3.9312e-04 - accuracy: 1.0000 - val_loss: 0.0903 - val_accuracy: 0.9760\n"
          ],
          "name": "stdout"
        },
        {
          "output_type": "stream",
          "text": [
            "WARNING:tensorflow:Learning rate reduction is conditioned on metric `val_acc` which is not available. Available metrics are: loss,accuracy,val_loss,val_accuracy,lr\n"
          ],
          "name": "stderr"
        },
        {
          "output_type": "stream",
          "text": [
            "\n",
            "Epoch 00040: saving model to checkpoint.hdf5\n",
            "Epoch 41/50\n",
            "38/38 [==============================] - 0s 7ms/step - loss: 3.4586e-04 - accuracy: 1.0000 - val_loss: 0.0957 - val_accuracy: 0.9745\n"
          ],
          "name": "stdout"
        },
        {
          "output_type": "stream",
          "text": [
            "WARNING:tensorflow:Learning rate reduction is conditioned on metric `val_acc` which is not available. Available metrics are: loss,accuracy,val_loss,val_accuracy,lr\n"
          ],
          "name": "stderr"
        },
        {
          "output_type": "stream",
          "text": [
            "\n",
            "Epoch 00041: saving model to checkpoint.hdf5\n",
            "Epoch 42/50\n",
            "38/38 [==============================] - 0s 7ms/step - loss: 3.7767e-04 - accuracy: 1.0000 - val_loss: 0.0933 - val_accuracy: 0.9750\n"
          ],
          "name": "stdout"
        },
        {
          "output_type": "stream",
          "text": [
            "WARNING:tensorflow:Learning rate reduction is conditioned on metric `val_acc` which is not available. Available metrics are: loss,accuracy,val_loss,val_accuracy,lr\n"
          ],
          "name": "stderr"
        },
        {
          "output_type": "stream",
          "text": [
            "\n",
            "Epoch 00042: saving model to checkpoint.hdf5\n",
            "Epoch 43/50\n",
            "38/38 [==============================] - 0s 7ms/step - loss: 3.3120e-04 - accuracy: 1.0000 - val_loss: 0.0940 - val_accuracy: 0.9744\n"
          ],
          "name": "stdout"
        },
        {
          "output_type": "stream",
          "text": [
            "WARNING:tensorflow:Learning rate reduction is conditioned on metric `val_acc` which is not available. Available metrics are: loss,accuracy,val_loss,val_accuracy,lr\n"
          ],
          "name": "stderr"
        },
        {
          "output_type": "stream",
          "text": [
            "\n",
            "Epoch 00043: saving model to checkpoint.hdf5\n",
            "Epoch 44/50\n",
            "38/38 [==============================] - 0s 7ms/step - loss: 2.9861e-04 - accuracy: 1.0000 - val_loss: 0.0931 - val_accuracy: 0.9746\n"
          ],
          "name": "stdout"
        },
        {
          "output_type": "stream",
          "text": [
            "WARNING:tensorflow:Learning rate reduction is conditioned on metric `val_acc` which is not available. Available metrics are: loss,accuracy,val_loss,val_accuracy,lr\n"
          ],
          "name": "stderr"
        },
        {
          "output_type": "stream",
          "text": [
            "\n",
            "Epoch 00044: saving model to checkpoint.hdf5\n",
            "Epoch 45/50\n",
            "38/38 [==============================] - 0s 7ms/step - loss: 3.0659e-04 - accuracy: 1.0000 - val_loss: 0.0937 - val_accuracy: 0.9762\n"
          ],
          "name": "stdout"
        },
        {
          "output_type": "stream",
          "text": [
            "WARNING:tensorflow:Learning rate reduction is conditioned on metric `val_acc` which is not available. Available metrics are: loss,accuracy,val_loss,val_accuracy,lr\n"
          ],
          "name": "stderr"
        },
        {
          "output_type": "stream",
          "text": [
            "\n",
            "Epoch 00045: saving model to checkpoint.hdf5\n",
            "Epoch 46/50\n",
            "38/38 [==============================] - 0s 7ms/step - loss: 2.9478e-04 - accuracy: 1.0000 - val_loss: 0.0926 - val_accuracy: 0.9766\n"
          ],
          "name": "stdout"
        },
        {
          "output_type": "stream",
          "text": [
            "WARNING:tensorflow:Learning rate reduction is conditioned on metric `val_acc` which is not available. Available metrics are: loss,accuracy,val_loss,val_accuracy,lr\n"
          ],
          "name": "stderr"
        },
        {
          "output_type": "stream",
          "text": [
            "\n",
            "Epoch 00046: saving model to checkpoint.hdf5\n",
            "Epoch 47/50\n",
            "38/38 [==============================] - 0s 7ms/step - loss: 2.6960e-04 - accuracy: 1.0000 - val_loss: 0.0957 - val_accuracy: 0.9755\n"
          ],
          "name": "stdout"
        },
        {
          "output_type": "stream",
          "text": [
            "WARNING:tensorflow:Learning rate reduction is conditioned on metric `val_acc` which is not available. Available metrics are: loss,accuracy,val_loss,val_accuracy,lr\n"
          ],
          "name": "stderr"
        },
        {
          "output_type": "stream",
          "text": [
            "\n",
            "Epoch 00047: saving model to checkpoint.hdf5\n",
            "Epoch 48/50\n",
            "38/38 [==============================] - 0s 7ms/step - loss: 2.5735e-04 - accuracy: 1.0000 - val_loss: 0.0979 - val_accuracy: 0.9750\n"
          ],
          "name": "stdout"
        },
        {
          "output_type": "stream",
          "text": [
            "WARNING:tensorflow:Learning rate reduction is conditioned on metric `val_acc` which is not available. Available metrics are: loss,accuracy,val_loss,val_accuracy,lr\n"
          ],
          "name": "stderr"
        },
        {
          "output_type": "stream",
          "text": [
            "\n",
            "Epoch 00048: saving model to checkpoint.hdf5\n",
            "Epoch 49/50\n",
            "38/38 [==============================] - 0s 7ms/step - loss: 2.3092e-04 - accuracy: 1.0000 - val_loss: 0.0950 - val_accuracy: 0.9745\n"
          ],
          "name": "stdout"
        },
        {
          "output_type": "stream",
          "text": [
            "WARNING:tensorflow:Learning rate reduction is conditioned on metric `val_acc` which is not available. Available metrics are: loss,accuracy,val_loss,val_accuracy,lr\n"
          ],
          "name": "stderr"
        },
        {
          "output_type": "stream",
          "text": [
            "\n",
            "Epoch 00049: saving model to checkpoint.hdf5\n",
            "Epoch 50/50\n",
            "38/38 [==============================] - 0s 7ms/step - loss: 2.1892e-04 - accuracy: 1.0000 - val_loss: 0.0952 - val_accuracy: 0.9759\n"
          ],
          "name": "stdout"
        },
        {
          "output_type": "stream",
          "text": [
            "WARNING:tensorflow:Learning rate reduction is conditioned on metric `val_acc` which is not available. Available metrics are: loss,accuracy,val_loss,val_accuracy,lr\n"
          ],
          "name": "stderr"
        },
        {
          "output_type": "stream",
          "text": [
            "\n",
            "Epoch 00050: saving model to checkpoint.hdf5\n"
          ],
          "name": "stdout"
        }
      ]
    },
    {
      "cell_type": "code",
      "metadata": {
        "id": "x6i9BmjqEja2"
      },
      "source": [
        "# save the model with h5py\n",
        "import h5py\n",
        "from keras.models import load_model\n",
        "model.save('HSI_model_epochs100.h5')"
      ],
      "execution_count": null,
      "outputs": []
    },
    {
      "cell_type": "code",
      "metadata": {
        "id": "RDoH6oSnEmJv",
        "colab": {
          "base_uri": "https://localhost:8080/",
          "height": 573
        },
        "outputId": "953f7344-c586-458c-ac21-0a80ac5208e9"
      },
      "source": [
        "import matplotlib.pyplot as plt\n",
        "%matplotlib inline\n",
        "# summarize history for accuracy\n",
        "plt.plot(history.history['accuracy'])\n",
        "plt.plot(history.history['val_accuracy'])\n",
        "plt.title('model accuracy with Grey Wolf Optimisation')\n",
        "plt.ylabel('accuracy')\n",
        "plt.xlabel('epoch')\n",
        "plt.grid(True)\n",
        "plt.legend(['train', 'test'], loc='upper left') \n",
        "plt.savefig(\"model_accuracy_100.svg\")\n",
        "plt.show()\n",
        "\n",
        "# summarize history for loss \n",
        "plt.plot(history.history['loss'])\n",
        "plt.plot(history.history['val_loss'])\n",
        "plt.title('model loss with Grey Wolf Optimisation')\n",
        "plt.ylabel('loss')\n",
        "plt.xlabel('epoch')\n",
        "plt.grid(True)\n",
        "plt.legend(['train', 'test'], loc='upper left') \n",
        "plt.savefig(\"model_loss_100.svg\")\n",
        "plt.show()"
      ],
      "execution_count": null,
      "outputs": [
        {
          "output_type": "display_data",
          "data": {
            "image/png": "[encoded data removed]",
            "text/plain": [
              "<Figure size 432x288 with 1 Axes>"
            ]
          },
          "metadata": {
            "tags": [],
            "needs_background": "light"
          }
        },
        {
          "output_type": "display_data",
          "data": {
            "image/png": "[encoded data removed]",
            "text/plain": [
              "<Figure size 432x288 with 1 Axes>"
            ]
          },
          "metadata": {
            "tags": [],
            "needs_background": "light"
          }
        }
      ]
    },
    {
      "cell_type": "code",
      "metadata": {
        "id": "nciS0FY7TX3J"
      },
      "source": [
        "from sklearn.metrics import classification_report, confusion_matrix\n",
        "import itertools"
      ],
      "execution_count": null,
      "outputs": []
    },
    {
      "cell_type": "code",
      "metadata": {
        "id": "4UUUNRVTPwyl"
      },
      "source": [
        "# Get the model evaluation report, \n",
        "# include classification report, confusion matrix, Test_Loss, Test_accuracy\n",
        "target_names = ['Alfala', 'Corn-notil', 'Corn-mintil', 'Corn'\n",
        "           ,'Grass-pasture', 'Grass-trees', 'Grass-pasture-mowed', \n",
        "            'Hay-windrowed', 'Oats',\"Soyabean-notill\",\"Soyabean-mintill\",\"Soyabean-clean\"\n",
        "            ,\"Wheat\",\"Woods\",\"Building-Grass-Trees-Drives\",\"Stone-Steel-Towers\"]\n",
        "def reports(X_test,y_test):\n",
        "    Y_pred = model.predict(X_test)\n",
        "    y_pred = np.argmax(Y_pred, axis=1)\n",
        "\n",
        "    classification = classification_report(np.argmax(y_test, axis=1), y_pred, target_names=target_names)\n",
        "    confusion = confusion_matrix(np.argmax(y_test, axis=1), y_pred)\n",
        "    score = model.evaluate(X_test, y_test, batch_size=32)\n",
        "    Test_Loss = score[0]\n",
        "    Test_accuracy = score[1]*100\n",
        "    kappa = cohen_kappa_score(y_pred,np.argmax(y_test, axis=1))\n",
        "    print(\"kappa score  : \",kappa*100)\n",
        "    \n",
        "    return classification, confusion, Test_Loss, Test_accuracy"
      ],
      "execution_count": null,
      "outputs": []
    },
    {
      "cell_type": "code",
      "metadata": {
        "id": "Q4fZ48tVS_a9",
        "colab": {
          "base_uri": "https://localhost:8080/"
        },
        "outputId": "3a2b14d9-620f-4408-861f-3b063cd0cf63"
      },
      "source": [
        "# load the model architecture and weights\n",
        "model = load_model('HSI_model_epochs100.h5')\n",
        "\n",
        "# calculate result, loss, accuray and confusion matrix\n",
        "classification, confusion, Test_loss, Test_accuracy = reports(X_test,y_test)\n",
        "classification = str(classification)\n",
        "confusion_str = str(confusion)\n",
        "\n",
        "# show result and save to file\n",
        "print('Test loss {} (%)'.format(Test_loss))\n",
        "print('Test accuracy {} (%)'.format(Test_accuracy))\n",
        "print(\"classification result: \")\n",
        "print('{}'.format(classification))\n",
        "print(\"confusion matrix: \")\n",
        "print('{}'.format(confusion_str))\n",
        "file_name =\"WindowSize\" + str(windowSize) + \"PCA\" + str(numPCAcomponents) + \"testRatio\" + str(testRatio) +\".txt\"\n",
        "with open(file_name, 'w') as x_file:\n",
        "    x_file.write('Test loss {} (%)'.format(Test_loss))\n",
        "    x_file.write('\\n')\n",
        "    x_file.write('Test accuracy {} (%)'.format(Test_accuracy))\n",
        "    x_file.write('\\n')\n",
        "    x_file.write('\\n')\n",
        "    x_file.write(\" classification result: \\n\")\n",
        "    x_file.write('{}'.format(classification))\n",
        "    x_file.write('\\n')\n",
        "    x_file.write(\" confusion matrix: \\n\")\n",
        "    x_file.write('{}'.format(confusion_str))"
      ],
      "execution_count": null,
      "outputs": [
        {
          "output_type": "stream",
          "text": [
            "257/257 [==============================] - 1s 2ms/step - loss: 0.0952 - accuracy: 0.9759\n",
            "kappa score  :  97.25036647808577\n",
            "Test loss 0.09524518996477127 (%)\n",
            "Test accuracy 97.5853681564331 (%)\n",
            "classification result: \n",
            "                             precision    recall  f1-score   support\n",
            "\n",
            "                     Alfala       1.00      0.95      0.97        37\n",
            "                 Corn-notil       0.97      0.96      0.97      1143\n",
            "                Corn-mintil       0.93      0.95      0.94       664\n",
            "                       Corn       0.97      0.99      0.98       190\n",
            "              Grass-pasture       0.98      0.97      0.98       386\n",
            "                Grass-trees       0.99      0.99      0.99       584\n",
            "        Grass-pasture-mowed       1.00      1.00      1.00        22\n",
            "              Hay-windrowed       0.99      1.00      1.00       382\n",
            "                       Oats       0.89      1.00      0.94        16\n",
            "            Soyabean-notill       0.96      0.99      0.98       778\n",
            "           Soyabean-mintill       0.99      0.97      0.98      1964\n",
            "             Soyabean-clean       0.97      0.97      0.97       475\n",
            "                      Wheat       0.96      1.00      0.98       164\n",
            "                      Woods       1.00      0.99      0.99      1012\n",
            "Building-Grass-Trees-Drives       0.95      0.99      0.97       309\n",
            "         Stone-Steel-Towers       0.99      1.00      0.99        74\n",
            "\n",
            "                   accuracy                           0.98      8200\n",
            "                  macro avg       0.97      0.98      0.98      8200\n",
            "               weighted avg       0.98      0.98      0.98      8200\n",
            "\n",
            "confusion matrix: \n",
            "[[  35    2    0    0    0    0    0    0    0    0    0    0    0    0\n",
            "     0    0]\n",
            " [   0 1101    6    0    0    0    0    1    0    2   22   11    0    0\n",
            "     0    0]\n",
            " [   0   13  630    3    0    0    0    0    2    6    0    4    6    0\n",
            "     0    0]\n",
            " [   0    0    1  189    0    0    0    0    0    0    0    0    0    0\n",
            "     0    0]\n",
            " [   0    0    3    0  375    2    0    0    0    0    0    0    0    0\n",
            "     6    0]\n",
            " [   0    0    3    0    0  580    0    0    0    0    1    0    0    0\n",
            "     0    0]\n",
            " [   0    0    0    0    0    0   22    0    0    0    0    0    0    0\n",
            "     0    0]\n",
            " [   0    0    0    0    1    0    0  381    0    0    0    0    0    0\n",
            "     0    0]\n",
            " [   0    0    0    0    0    0    0    0   16    0    0    0    0    0\n",
            "     0    0]\n",
            " [   0    3    0    0    0    0    0    0    0  769    1    0    0    0\n",
            "     5    0]\n",
            " [   0    8   33    1    1    2    0    0    0   17 1900    1    0    0\n",
            "     0    1]\n",
            " [   0    4    5    2    0    0    0    0    0    1    0  459    0    0\n",
            "     4    0]\n",
            " [   0    0    0    0    0    0    0    0    0    0    0    0  164    0\n",
            "     0    0]\n",
            " [   0    0    0    0    6    0    0    1    0    3    0    0    0 1001\n",
            "     1    0]\n",
            " [   0    0    0    0    0    3    0    0    0    0    0    0    0    0\n",
            "   306    0]\n",
            " [   0    0    0    0    0    0    0    0    0    0    0    0    0    0\n",
            "     0   74]]\n"
          ],
          "name": "stdout"
        }
      ]
    },
    {
      "cell_type": "code",
      "metadata": {
        "id": "WlmmXOrTTCdH",
        "colab": {
          "base_uri": "https://localhost:8080/",
          "height": 1000
        },
        "outputId": "d20549cc-9f19-41ee-97b5-dffb90b76fd7"
      },
      "source": [
        "import matplotlib.pyplot as plt\n",
        "%matplotlib inline\n",
        "def plot_confusion_matrix(cm, classes, normalize=False,title='Confusion matrix',cmap=plt.get_cmap(\"Blues\")):\n",
        "    \"\"\"\n",
        "    This function prints and plots the confusion matrix.\n",
        "    Normalization can be applied by setting `normalize=True`.\n",
        "    \"\"\"\n",
        "    Normalized = cm.astype('float') / cm.sum(axis=1)[:, np.newaxis]\n",
        "    if normalize:\n",
        "        cm = Normalized\n",
        "        print(\"Normalized confusion matrix\")\n",
        "    else:\n",
        "        print('Confusion matrix, without normalization')\n",
        "\n",
        "    print(cm)\n",
        "\n",
        "    plt.imshow(Normalized, interpolation='nearest', cmap=cmap)\n",
        "    plt.colorbar()\n",
        "    plt.title(title)\n",
        "    tick_marks = np.arange(len(classes))\n",
        "    plt.xticks(tick_marks, classes, rotation=90)\n",
        "    plt.yticks(tick_marks, classes)\n",
        "\n",
        "    fmt = '.4f' if normalize else 'd'\n",
        "    for i, j in itertools.product(range(cm.shape[0]), range(cm.shape[1])):\n",
        "        thresh = cm[i].max() / 2.\n",
        "        plt.text(j, i, format(cm[i, j], fmt),\n",
        "                 horizontalalignment=\"center\",\n",
        "                 color=\"white\" if cm[i, j] > thresh else \"black\")\n",
        "\n",
        "    plt.tight_layout()\n",
        "    plt.ylabel('True label')\n",
        "    plt.xlabel('Predicted label')\n",
        "\n",
        "\n",
        "plt.figure(figsize=(10,10))\n",
        "plot_confusion_matrix(confusion, classes=target_names, normalize=False,title='Confusion matrix, without normalization')\n",
        "plt.savefig(\"confusion_matrix_without_normalization.svg\")\n",
        "plt.show()\n",
        "plt.figure(figsize=(15,15))\n",
        "plot_confusion_matrix(confusion, classes=target_names, normalize=True,title='Normalized confusion matrix')\n",
        "plt.savefig(\"confusion_matrix_with_normalization.svg\")\n",
        "plt.show()"
      ],
      "execution_count": null,
      "outputs": [
        {
          "output_type": "stream",
          "text": [
            "Confusion matrix, without normalization\n",
            "[[ 19   0   0   0   0   0   0   0   0   0   0   0   0   0   0   0]\n",
            " [  0 539   6   2   0   0   0   0   0   5  13   6   0   0   0   0]\n",
            " [  0   1 324   1   0   0   0   0   0   0   2   2   1   1   0   0]\n",
            " [  0   0   0  95   0   0   0   0   0   0   0   0   0   0   0   0]\n",
            " [  0   0   0   0 192   0   0   0   1   0   0   0   0   0   0   0]\n",
            " [  0   0   0   0   1 286   0   0   0   0   0   0   0   0   5   0]\n",
            " [  0   0   0   0   0   0  11   0   0   0   0   0   0   0   0   0]\n",
            " [  0   0   0   0   0   0   0 191   0   0   0   0   0   0   0   0]\n",
            " [  0   0   0   0   0   0   0   0   8   0   0   0   0   0   0   0]\n",
            " [  0   7   0   2   0   0   0   0   0 375   4   1   0   0   0   0]\n",
            " [  0  14   4   1   1   0   0   0   0   7 951   4   0   0   0   0]\n",
            " [  0   0   2   0   1   0   0   0   0   3   1 230   0   0   0   0]\n",
            " [  0   0   0   0   0   0   0   0   0   0   0   0  82   0   0   0]\n",
            " [  0   0   0   0   2   0   0   0   0   0   0   0   1 494   9   0]\n",
            " [  0   0   0   0   0   1   0   0   0   0   0   0   0   3 151   0]\n",
            " [  0   0   0   0   0   0   0   0   0   0   0   0   0   0   0  37]]\n"
          ],
          "name": "stdout"
        },
        {
          "output_type": "display_data",
          "data": {
            "image/png": "[encoded data removed]",
            "text/plain": [
              "<Figure size 720x720 with 2 Axes>"
            ]
          },
          "metadata": {
            "tags": [],
            "needs_background": "light"
          }
        },
        {
          "output_type": "stream",
          "text": [
            "Normalized confusion matrix\n",
            "[[1.         0.         0.         0.         0.         0.\n",
            "  0.         0.         0.         0.         0.         0.\n",
            "  0.         0.         0.         0.        ]\n",
            " [0.         0.94395797 0.01050788 0.00350263 0.         0.\n",
            "  0.         0.         0.         0.00875657 0.02276708 0.01050788\n",
            "  0.         0.         0.         0.        ]\n",
            " [0.         0.00301205 0.97590361 0.00301205 0.         0.\n",
            "  0.         0.         0.         0.         0.0060241  0.0060241\n",
            "  0.00301205 0.00301205 0.         0.        ]\n",
            " [0.         0.         0.         1.         0.         0.\n",
            "  0.         0.         0.         0.         0.         0.\n",
            "  0.         0.         0.         0.        ]\n",
            " [0.         0.         0.         0.         0.99481865 0.\n",
            "  0.         0.         0.00518135 0.         0.         0.\n",
            "  0.         0.         0.         0.        ]\n",
            " [0.         0.         0.         0.         0.00342466 0.97945205\n",
            "  0.         0.         0.         0.         0.         0.\n",
            "  0.         0.         0.01712329 0.        ]\n",
            " [0.         0.         0.         0.         0.         0.\n",
            "  1.         0.         0.         0.         0.         0.\n",
            "  0.         0.         0.         0.        ]\n",
            " [0.         0.         0.         0.         0.         0.\n",
            "  0.         1.         0.         0.         0.         0.\n",
            "  0.         0.         0.         0.        ]\n",
            " [0.         0.         0.         0.         0.         0.\n",
            "  0.         0.         1.         0.         0.         0.\n",
            "  0.         0.         0.         0.        ]\n",
            " [0.         0.01799486 0.         0.00514139 0.         0.\n",
            "  0.         0.         0.         0.96401028 0.01028278 0.00257069\n",
            "  0.         0.         0.         0.        ]\n",
            " [0.         0.01425662 0.00407332 0.00101833 0.00101833 0.\n",
            "  0.         0.         0.         0.00712831 0.96843177 0.00407332\n",
            "  0.         0.         0.         0.        ]\n",
            " [0.         0.         0.00843882 0.         0.00421941 0.\n",
            "  0.         0.         0.         0.01265823 0.00421941 0.97046414\n",
            "  0.         0.         0.         0.        ]\n",
            " [0.         0.         0.         0.         0.         0.\n",
            "  0.         0.         0.         0.         0.         0.\n",
            "  1.         0.         0.         0.        ]\n",
            " [0.         0.         0.         0.         0.00395257 0.\n",
            "  0.         0.         0.         0.         0.         0.\n",
            "  0.00197628 0.97628458 0.01778656 0.        ]\n",
            " [0.         0.         0.         0.         0.         0.00645161\n",
            "  0.         0.         0.         0.         0.         0.\n",
            "  0.         0.01935484 0.97419355 0.        ]\n",
            " [0.         0.         0.         0.         0.         0.\n",
            "  0.         0.         0.         0.         0.         0.\n",
            "  0.         0.         0.         1.        ]]\n"
          ],
          "name": "stdout"
        },
        {
          "output_type": "display_data",
          "data": {
            "image/png": "[encoded data removed]",
            "text/plain": [
              "<Figure size 1080x1080 with 2 Axes>"
            ]
          },
          "metadata": {
            "tags": [],
            "needs_background": "light"
          }
        }
      ]
    },
    {
      "cell_type": "code",
      "metadata": {
        "id": "JKSWDU6BTh_l"
      },
      "source": [
        "def Patch(data,height_index,width_index):\n",
        "    #transpose_array = data.transpose((2,0,1))\n",
        "    #print transpose_array.shape\n",
        "    height_slice = slice(height_index, height_index+PATCH_SIZE)\n",
        "    width_slice = slice(width_index, width_index+PATCH_SIZE)\n",
        "    patch = data[height_slice, width_slice, :]\n",
        "    \n",
        "    return patch"
      ],
      "execution_count": null,
      "outputs": []
    },
    {
      "cell_type": "code",
      "metadata": {
        "id": "9IdFVd17UDRk"
      },
      "source": [
        "output_image = sio.loadmat('Indian_pines_gt.mat')['indian_pines_gt']"
      ],
      "execution_count": null,
      "outputs": []
    },
    {
      "cell_type": "code",
      "metadata": {
        "id": "psWFsJesT6Xx"
      },
      "source": [
        "height =output_image.shape[0]\n",
        "width = output_image.shape[1]\n",
        "PATCH_SIZE = 15\n",
        "numComponents = 5"
      ],
      "execution_count": null,
      "outputs": []
    },
    {
      "cell_type": "code",
      "metadata": {
        "id": "NH8TXxi1T8zU"
      },
      "source": [
        "outputs = np.zeros((height,width))\n",
        "for i in range(height-PATCH_SIZE+1):\n",
        "    for j in range(width-PATCH_SIZE+1):\n",
        "        target = int(output_image[i+int(PATCH_SIZE/2), j+int(PATCH_SIZE/2)])\n",
        "        if target == 0 :\n",
        "            continue00\n",
        "        else :\n",
        "            image_patch=Patch(X,i,j)\n",
        "            #print (image_patch.shape)\n",
        "            X_test_image = image_patch.reshape(1,image_patch.shape[2],image_patch.shape[0],image_patch.shape[1]).astype('float32')                                   \n",
        "            prediction = (model.predict_classes(X_test_image))                         \n",
        "            outputs[i+int(PATCH_SIZE/2)][j+int(PATCH_SIZE/2)] = prediction+1"
      ],
      "execution_count": null,
      "outputs": []
    },
    {
      "cell_type": "code",
      "metadata": {
        "id": "QBHl2jCNUwL7",
        "colab": {
          "base_uri": "https://localhost:8080/",
          "height": 594
        },
        "outputId": "e28f83e6-3fa9-46cf-c648-b9085e46ef78"
      },
      "source": [
        "ground_truth = imshow(classes=y,figsize =(10,10))"
      ],
      "execution_count": null,
      "outputs": [
        {
          "output_type": "display_data",
          "data": {
            "image/png": "[encoded data removed]",
            "text/plain": [
              "<Figure size 720x720 with 1 Axes>"
            ]
          },
          "metadata": {
            "tags": [],
            "needs_background": "light"
          }
        }
      ]
    },
    {
      "cell_type": "code",
      "metadata": {
        "id": "nIoss-jFU2n6",
        "colab": {
          "base_uri": "https://localhost:8080/",
          "height": 594
        },
        "outputId": "d547193a-46eb-4621-9dc9-8264341e9a50"
      },
      "source": [
        "predict_image =imshow(classes = outputs.astype(int),figsize =(10,10))"
      ],
      "execution_count": null,
      "outputs": [
        {
          "output_type": "display_data",
          "data": {
            "image/png": "[encoded data removed]",
            "text/plain": [
              "<Figure size 720x720 with 1 Axes>"
            ]
          },
          "metadata": {
            "tags": [],
            "needs_background": "light"
          }
        }
      ]
    },
    {
      "cell_type": "code",
      "metadata": {
        "id": "EIyOzR39VPIn"
      },
      "source": [],
      "execution_count": null,
      "outputs": []
    }
  ]
}